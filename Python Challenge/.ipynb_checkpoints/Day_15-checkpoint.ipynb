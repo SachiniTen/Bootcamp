{
 "cells": [
  {
   "cell_type": "markdown",
   "metadata": {},
   "source": [
    "# Question 54\n",
    "\n",
    "## **Question**\n",
    "\n",
    "> **_Assuming that we have some email addresses in the \"username@companyname.com\" format, please write program to print the company name of a given email address. Both user names and company names are composed of letters only._**\n",
    "\n",
    "> **_Example:\n",
    "> If the following email address is given as input to the program:_**\n",
    "\n",
    "```\n",
    "john@google.com\n",
    "```\n",
    "\n",
    "> **_Then, the output of the program should be:_**\n",
    "\n",
    "```\n",
    "google\n",
    "```\n",
    "\n",
    "> **_In case of input data being supplied to the question, it should be assumed to be a console input._**\n",
    "\n",
    "---\n",
    "## Hints\n",
    "\n",
    "> **_Use \\w to match letters._**\n",
    "\n",
    "---"
   ]
  },
  {
   "cell_type": "code",
   "execution_count": 1,
   "metadata": {
    "ExecuteTime": {
     "end_time": "2020-08-28T04:26:42.453710Z",
     "start_time": "2020-08-28T04:26:34.482673Z"
    }
   },
   "outputs": [
    {
     "name": "stdout",
     "output_type": "stream",
     "text": [
      "john@google.com\n",
      "google\n"
     ]
    }
   ],
   "source": [
    "import re\n",
    "email= str(input())\n",
    "pattern='\\w+@(\\w+).com'\n",
    "ans=re.findall(pattern,email)\n",
    "print(*ans)"
   ]
  },
  {
   "cell_type": "markdown",
   "metadata": {},
   "source": [
    "# Question 55\n",
    "\n",
    "## **Question**\n",
    "\n",
    "> **_Write a program which accepts a sequence of words separated by whitespace as input to print the words composed of digits only._**\n",
    "\n",
    "> **_Example:\n",
    "> If the following words is given as input to the program:_**\n",
    "\n",
    "```\n",
    "2 cats and 3 dogs.\n",
    "```\n",
    "\n",
    "> **_Then, the output of the program should be:_**\n",
    "\n",
    "```\n",
    "['2', '3']\n",
    "```\n",
    "\n",
    "> **_In case of input data being supplied to the question, it should be assumed to be a console input._**\n",
    "\n",
    "---\n",
    "\n",
    "## Hints\n",
    "\n",
    "> **_Use re.findall() to find all substring using regex._**\n",
    "\n",
    "---"
   ]
  },
  {
   "cell_type": "code",
   "execution_count": 2,
   "metadata": {
    "ExecuteTime": {
     "end_time": "2020-08-28T04:26:42.461386Z",
     "start_time": "2020-08-28T04:26:42.456204Z"
    }
   },
   "outputs": [
    {
     "name": "stdout",
     "output_type": "stream",
     "text": [
      "2 3\n"
     ]
    }
   ],
   "source": [
    "import re\n",
    "words='2 cats and 3 dogs.'\n",
    "# \\d number\n",
    "pattern='\\d+'\n",
    "ans=re.findall(pattern,words)\n",
    "print(*ans)"
   ]
  },
  {
   "cell_type": "code",
   "execution_count": 3,
   "metadata": {
    "ExecuteTime": {
     "end_time": "2020-08-28T04:26:42.469589Z",
     "start_time": "2020-08-28T04:26:42.464577Z"
    }
   },
   "outputs": [
    {
     "name": "stdout",
     "output_type": "stream",
     "text": [
      "2 3\n"
     ]
    }
   ],
   "source": [
    "words='2 cats and 3 dogs.'\n",
    "ans=[word for word in words if word.isdigit()]\n",
    "print(*ans)"
   ]
  },
  {
   "cell_type": "markdown",
   "metadata": {},
   "source": [
    "# Question 56\n",
    "\n",
    "## **Question**\n",
    "\n",
    "> **_Print a unicode string \"hello world\"._**\n",
    "\n",
    "---\n",
    "\n",
    "## Hints\n",
    "\n",
    "> **_Use u'strings' format to define unicode string._**\n",
    "\n",
    "---"
   ]
  },
  {
   "cell_type": "code",
   "execution_count": 4,
   "metadata": {
    "ExecuteTime": {
     "end_time": "2020-08-28T04:26:42.475550Z",
     "start_time": "2020-08-28T04:26:42.471933Z"
    }
   },
   "outputs": [
    {
     "name": "stdout",
     "output_type": "stream",
     "text": [
      "hello world!\n"
     ]
    }
   ],
   "source": [
    "unicodeString = u\"hello world!\"\n",
    "print(unicodeString)"
   ]
  },
  {
   "cell_type": "markdown",
   "metadata": {},
   "source": [
    "# Question 57\n",
    "\n",
    "## **Question**\n",
    "\n",
    "> **_Write a program to read an ASCII string and to convert it to a unicode string encoded by utf-8._**\n",
    "\n",
    "---\n",
    "\n",
    "## Hints\n",
    "\n",
    "> **_Use unicode()/encode() function to convert._**\n",
    "\n",
    "---\n"
   ]
  },
  {
   "cell_type": "code",
   "execution_count": 5,
   "metadata": {
    "ExecuteTime": {
     "end_time": "2020-08-28T04:26:51.892800Z",
     "start_time": "2020-08-28T04:26:42.477567Z"
    }
   },
   "outputs": [
    {
     "name": "stdout",
     "output_type": "stream",
     "text": [
      "abc\n",
      "b'abc'\n"
     ]
    }
   ],
   "source": [
    "string=input()\n",
    "u=string.encode('utf-8')\n",
    "print(u)"
   ]
  },
  {
   "cell_type": "markdown",
   "metadata": {},
   "source": [
    "# Question 58\n",
    "\n",
    "## **Question**\n",
    "\n",
    "> **_Write a special comment to indicate a Python source code file is in unicode._**\n",
    "\n",
    "---\n",
    "\n",
    "## Hints\n",
    "\n",
    "> **_Use unicode() function to convert._**\n",
    "\n",
    "---"
   ]
  },
  {
   "cell_type": "code",
   "execution_count": 6,
   "metadata": {
    "ExecuteTime": {
     "end_time": "2020-08-28T04:26:51.897714Z",
     "start_time": "2020-08-28T04:26:51.895098Z"
    }
   },
   "outputs": [],
   "source": [
    "# -*- coding: utf-8 -*-"
   ]
  },
  {
   "cell_type": "markdown",
   "metadata": {},
   "source": [
    "# Question 59\n",
    "\n",
    "## **Question**\n",
    "\n",
    "> **_Write a program to compute 1/2+2/3+3/4+...+n/n+1 with a given n input by console (n>0)._**\n",
    "\n",
    "> **_Example:\n",
    "> If the following n is given as input to the program:_**\n",
    "\n",
    "```\n",
    "5\n",
    "```\n",
    "\n",
    "> **_Then, the output of the program should be:_**\n",
    "\n",
    "```\n",
    "3.55\n",
    "```\n",
    "\n",
    "> **_In case of input data being supplied to the question, it should be assumed to be a console input._**\n",
    "\n",
    "---\n",
    "\n",
    "## Hints\n",
    "\n",
    "> **_Use float() to convert an integer to a float.Even if not converted it wont cause a problem because python by default understands the data type of a value_**\n",
    "\n",
    "---"
   ]
  },
  {
   "cell_type": "code",
   "execution_count": 8,
   "metadata": {
    "ExecuteTime": {
     "end_time": "2020-08-28T04:27:33.728996Z",
     "start_time": "2020-08-28T04:27:31.884756Z"
    }
   },
   "outputs": [
    {
     "name": "stdout",
     "output_type": "stream",
     "text": [
      "5\n",
      "3.55\n"
     ]
    }
   ],
   "source": [
    "n= int(input())\n",
    "sum_init=0 \n",
    "for i in range(1, n+1):\n",
    "    sum_init+=i/(i+1)\n",
    "print(round(sum_init,2))"
   ]
  },
  {
   "cell_type": "code",
   "execution_count": 9,
   "metadata": {
    "ExecuteTime": {
     "end_time": "2020-08-28T04:27:37.827373Z",
     "start_time": "2020-08-28T04:27:37.823054Z"
    }
   },
   "outputs": [],
   "source": [
    "def sum_series(n):\n",
    "    print(round(sum(map(lambda x: x/(x+1), range(1, n+1))),2))"
   ]
  },
  {
   "cell_type": "code",
   "execution_count": 11,
   "metadata": {
    "ExecuteTime": {
     "end_time": "2020-08-28T04:28:41.346052Z",
     "start_time": "2020-08-28T04:28:41.342478Z"
    }
   },
   "outputs": [
    {
     "name": "stdout",
     "output_type": "stream",
     "text": [
      "3.55\n"
     ]
    }
   ],
   "source": [
    "sum_series(5)"
   ]
  },
  {
   "cell_type": "code",
   "execution_count": null,
   "metadata": {},
   "outputs": [],
   "source": []
  }
 ],
 "metadata": {
  "hide_input": false,
  "kernelspec": {
   "display_name": "Python 3",
   "language": "python",
   "name": "python3"
  },
  "language_info": {
   "codemirror_mode": {
    "name": "ipython",
    "version": 3
   },
   "file_extension": ".py",
   "mimetype": "text/x-python",
   "name": "python",
   "nbconvert_exporter": "python",
   "pygments_lexer": "ipython3",
   "version": "3.7.3"
  },
  "toc": {
   "base_numbering": 1,
   "nav_menu": {},
   "number_sections": true,
   "sideBar": true,
   "skip_h1_title": false,
   "title_cell": "Table of Contents",
   "title_sidebar": "Contents",
   "toc_cell": false,
   "toc_position": {},
   "toc_section_display": true,
   "toc_window_display": false
  }
 },
 "nbformat": 4,
 "nbformat_minor": 2
}
