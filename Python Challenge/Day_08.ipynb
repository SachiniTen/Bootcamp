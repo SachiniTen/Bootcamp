{
 "cells": [
  {
   "cell_type": "markdown",
   "metadata": {},
   "source": [
    "# Question 22\n",
    "\n",
    "## **Question:**\n",
    "\n",
    "> **_Write a program to compute the frequency of the words from the input. The output should output after sorting the key alphanumerically._**\n",
    "\n",
    "> **_Suppose the following input is supplied to the program:_**\n",
    "\n",
    "```\n",
    "New to Python or choosing between Python 2 and Python 3? Read Python 2 or Python 3.\n",
    "```\n",
    "\n",
    "> **_Then, the output should be:_**\n",
    "\n",
    "```\n",
    "2:2\n",
    "3.:1\n",
    "3?:1\n",
    "New:1\n",
    "Python:5\n",
    "Read:1\n",
    "and:1\n",
    "between:1\n",
    "choosing:1\n",
    "or:2\n",
    "to:1\n",
    "```\n",
    "\n",
    "---\n",
    "\n",
    "## Hints\n",
    "\n",
    "> **_In case of input data being supplied to the question, it should be assumed to be a console input._**\n",
    "\n",
    "---"
   ]
  },
  {
   "cell_type": "code",
   "execution_count": 3,
   "metadata": {
    "ExecuteTime": {
     "end_time": "2020-08-22T00:41:49.012950Z",
     "start_time": "2020-08-22T00:41:41.120174Z"
    }
   },
   "outputs": [
    {
     "name": "stdout",
     "output_type": "stream",
     "text": [
      "New to Python or choosing between Python 2 and Python 3? Read Python 2 or Python 3.\n",
      "2:2\n",
      "3.:1\n",
      "3?:1\n",
      "New:1\n",
      "Python:5\n",
      "Read:1\n",
      "and:1\n",
      "between:1\n",
      "choosing:1\n",
      "or:2\n",
      "to:1\n"
     ]
    }
   ],
   "source": [
    "n_list=input().split()\n",
    "word=sorted(set(n_list)) # sorted(set), list.sort()\n",
    "\n",
    "for i in word:\n",
    "    print('{0}:{1}'.format(i,n_list.count(i)))"
   ]
  },
  {
   "cell_type": "code",
   "execution_count": 12,
   "metadata": {
    "ExecuteTime": {
     "end_time": "2020-08-22T00:57:47.478957Z",
     "start_time": "2020-08-22T00:57:38.678820Z"
    }
   },
   "outputs": [
    {
     "name": "stdout",
     "output_type": "stream",
     "text": [
      "New to Python or choosing between Python 2 and Python 3? Read Python 2 or Python 3.\n",
      "dict_keys(['New', 'to', 'Python', 'or', 'choosing', 'between', '2', 'and', '3?', 'Read', '3.'])\n",
      "dict_values([1, 1, 5, 2, 1, 1, 2, 1, 1, 1, 1])\n",
      "2:2\n",
      "3.:1\n",
      "3?:1\n",
      "New:1\n",
      "Python:5\n",
      "Read:1\n",
      "and:1\n",
      "between:1\n",
      "choosing:1\n",
      "or:2\n",
      "to:1\n"
     ]
    }
   ],
   "source": [
    "n_list=input().split()\n",
    "dict ={i: n_list.count(i) for i in n_list}\n",
    "print(dict.keys())\n",
    "print(dict.values())\n",
    "dict = sorted(dict.items()) #items() function returns both keys & values of dictionary as a tuple in a list\n",
    "\n",
    "for i in dict:\n",
    "    print(\"%s:%d\"%(i[0],i[1]))"
   ]
  },
  {
   "cell_type": "markdown",
   "metadata": {},
   "source": [
    "\n",
    "# Question 23\n",
    "\n",
    "## **Question:**\n",
    "\n",
    "> **_Write a method which can calculate square value of number_**\n",
    "\n",
    "---\n",
    "\n",
    "## Hints:\n",
    "\n",
    "```\n",
    "Using the ** operator which can be written as n**p where means n^p\n",
    "```\n",
    "\n",
    "---"
   ]
  },
  {
   "cell_type": "code",
   "execution_count": 1,
   "metadata": {
    "ExecuteTime": {
     "end_time": "2020-08-22T00:36:47.487003Z",
     "start_time": "2020-08-22T00:36:41.272661Z"
    }
   },
   "outputs": [
    {
     "name": "stdout",
     "output_type": "stream",
     "text": [
      "3\n",
      "9\n"
     ]
    }
   ],
   "source": [
    "def square(num):\n",
    "    return num**2\n",
    "num=int(input())\n",
    "print(square(num))"
   ]
  },
  {
   "cell_type": "markdown",
   "metadata": {},
   "source": [
    "# Question 24\n",
    "\n",
    "## **Question:**\n",
    "\n",
    "> **_Python has many built-in functions, and if you do not know how to use it, you can read document online or find some books. But Python has a built-in document function for every built-in functions._**\n",
    "\n",
    "> **_Please write a program to print some Python built-in functions documents, such as abs(), int(), raw_input()_**\n",
    "\n",
    "> **_And add document for your own function_**\n",
    "\n",
    "## Hints:\n",
    "\n",
    "```\n",
    "The built-in document method is __doc__\n",
    "```\n",
    "\n",
    "---"
   ]
  },
  {
   "cell_type": "code",
   "execution_count": 13,
   "metadata": {
    "ExecuteTime": {
     "end_time": "2020-08-22T01:01:58.229650Z",
     "start_time": "2020-08-22T01:01:58.226054Z"
    }
   },
   "outputs": [
    {
     "name": "stdout",
     "output_type": "stream",
     "text": [
      "Return the absolute value of the argument.\n"
     ]
    }
   ],
   "source": [
    "print(abs.__doc__)"
   ]
  },
  {
   "cell_type": "code",
   "execution_count": 14,
   "metadata": {
    "ExecuteTime": {
     "end_time": "2020-08-22T01:02:15.828547Z",
     "start_time": "2020-08-22T01:02:15.825030Z"
    }
   },
   "outputs": [
    {
     "name": "stdout",
     "output_type": "stream",
     "text": [
      "int([x]) -> integer\n",
      "int(x, base=10) -> integer\n",
      "\n",
      "Convert a number or string to an integer, or return 0 if no arguments\n",
      "are given.  If x is a number, return x.__int__().  For floating point\n",
      "numbers, this truncates towards zero.\n",
      "\n",
      "If x is not a number or if base is given, then x must be a string,\n",
      "bytes, or bytearray instance representing an integer literal in the\n",
      "given base.  The literal can be preceded by '+' or '-' and be surrounded\n",
      "by whitespace.  The base defaults to 10.  Valid bases are 0 and 2-36.\n",
      "Base 0 means to interpret the base from the string as an integer literal.\n",
      ">>> int('0b100', base=0)\n",
      "4\n"
     ]
    }
   ],
   "source": [
    "print(int.__doc__)"
   ]
  },
  {
   "cell_type": "code",
   "execution_count": 18,
   "metadata": {
    "ExecuteTime": {
     "end_time": "2020-08-22T01:04:56.639786Z",
     "start_time": "2020-08-22T01:04:56.636478Z"
    }
   },
   "outputs": [
    {
     "name": "stdout",
     "output_type": "stream",
     "text": [
      "str(object='') -> str\n",
      "str(bytes_or_buffer[, encoding[, errors]]) -> str\n",
      "\n",
      "Create a new string object from the given object. If encoding or\n",
      "errors is specified, then the object must expose a data buffer\n",
      "that will be decoded using the given encoding and error handler.\n",
      "Otherwise, returns the result of object.__str__() (if defined)\n",
      "or repr(object).\n",
      "encoding defaults to sys.getdefaultencoding().\n",
      "errors defaults to 'strict'.\n"
     ]
    }
   ],
   "source": [
    "print(str.__doc__)"
   ]
  },
  {
   "cell_type": "code",
   "execution_count": 20,
   "metadata": {
    "ExecuteTime": {
     "end_time": "2020-08-22T01:05:22.835384Z",
     "start_time": "2020-08-22T01:05:22.831862Z"
    }
   },
   "outputs": [
    {
     "name": "stdout",
     "output_type": "stream",
     "text": [
      "Return a new list containing all items from the iterable in ascending order.\n",
      "\n",
      "A custom key function can be supplied to customize the sort order, and the\n",
      "reverse flag can be set to request the result in descending order.\n"
     ]
    }
   ],
   "source": [
    "print(sorted.__doc__)"
   ]
  },
  {
   "cell_type": "code",
   "execution_count": 21,
   "metadata": {
    "ExecuteTime": {
     "end_time": "2020-08-22T01:06:41.187056Z",
     "start_time": "2020-08-22T01:06:41.182599Z"
    }
   },
   "outputs": [
    {
     "name": "stdout",
     "output_type": "stream",
     "text": [
      "81\n",
      "\n",
      "    param n: This is any integer number\n",
      "    param p: This is power over n\n",
      "    return:  n to the power p = n^p\n",
      "    \n"
     ]
    }
   ],
   "source": [
    "def pow(n,p):\n",
    "    '''\n",
    "    param n: This is any integer number\n",
    "    param p: This is power over n\n",
    "    return:  n to the power p = n^p\n",
    "    '''\n",
    "    return n**p\n",
    "print(pow(3,4))\n",
    "print(pow.__doc__)"
   ]
  },
  {
   "cell_type": "markdown",
   "metadata": {},
   "source": [
    "# Question 25\n",
    "\n",
    "## **Question:**\n",
    "\n",
    "> **_Define a class, which have a class parameter and have a same instance parameter._**\n",
    "\n",
    "---\n",
    "\n",
    "## Hints:\n",
    "\n",
    "```\n",
    "Define an instance parameter, need add it in __init__ method.You can init an object with construct parameter or set the value later\n",
    "```\n",
    "\n",
    "---"
   ]
  },
  {
   "cell_type": "code",
   "execution_count": 22,
   "metadata": {
    "ExecuteTime": {
     "end_time": "2020-08-22T03:32:15.366419Z",
     "start_time": "2020-08-22T03:32:15.362437Z"
    }
   },
   "outputs": [
    {
     "name": "stdout",
     "output_type": "stream",
     "text": [
      "stock name is Tesla\n"
     ]
    }
   ],
   "source": [
    "class stock:\n",
    "    # Define the class parameter \"name\"\n",
    "    name = 'stock'\n",
    "    def __init__(self, name=None):\n",
    "        # self.name is the instance parameter\n",
    "        self.name=name\n",
    "\n",
    "tsla= stock('Tesla')\n",
    "print('%s name is %s'%(stock.name,tsla.name))\n",
    "    \n",
    "    "
   ]
  },
  {
   "cell_type": "code",
   "execution_count": null,
   "metadata": {},
   "outputs": [],
   "source": []
  }
 ],
 "metadata": {
  "hide_input": false,
  "kernelspec": {
   "display_name": "Python 3",
   "language": "python",
   "name": "python3"
  },
  "language_info": {
   "codemirror_mode": {
    "name": "ipython",
    "version": 3
   },
   "file_extension": ".py",
   "mimetype": "text/x-python",
   "name": "python",
   "nbconvert_exporter": "python",
   "pygments_lexer": "ipython3",
   "version": "3.7.3"
  },
  "toc": {
   "base_numbering": 1,
   "nav_menu": {},
   "number_sections": true,
   "sideBar": true,
   "skip_h1_title": false,
   "title_cell": "Table of Contents",
   "title_sidebar": "Contents",
   "toc_cell": false,
   "toc_position": {},
   "toc_section_display": true,
   "toc_window_display": false
  }
 },
 "nbformat": 4,
 "nbformat_minor": 2
}
