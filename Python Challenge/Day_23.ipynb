{
 "cells": [
  {
   "cell_type": "markdown",
   "metadata": {},
   "source": [
    "The extended part of the repository starts from this page. Previous 94 problems were collected from the repository mentioned in intro. The following problems are collected from Hackerrank and other resources from internet. All the given solutions are in python 3.\n",
    "\n",
    "# Question 95\n",
    "\n",
    "## **Question**\n",
    "\n",
    "> **_Given the participants' score sheet for your University Sports Day, you are required to find the runner-up (2nd) score. You are given scores. Store them in a list and find the score of the runner-up._**\n",
    "\n",
    "> **_If the following string is given as input to the program:_**\n",
    ">\n",
    "> ```\n",
    "> 5\n",
    "> 2 3 6 6 5\n",
    "> ```\n",
    ">\n",
    "> **_Then, the output of the program should be:_**\n",
    ">\n",
    "> ```\n",
    "> 5\n",
    "> ```\n",
    "\n",
    "## Hints\n",
    "\n",
    "> **_Make the scores unique and then find 2nd best number_**\n",
    "\n",
    "---"
   ]
  },
  {
   "cell_type": "code",
   "execution_count": 2,
   "metadata": {
    "ExecuteTime": {
     "end_time": "2020-09-05T00:02:58.976969Z",
     "start_time": "2020-09-05T00:02:51.314408Z"
    }
   },
   "outputs": [
    {
     "name": "stdout",
     "output_type": "stream",
     "text": [
      "2 3 6 6 5\n",
      "5\n"
     ]
    }
   ],
   "source": [
    "n_list = map(int, input().split())\n",
    "n_list = list(set(n_list))\n",
    "n_list.sort()\n",
    "print(n_list[-2])\n"
   ]
  },
  {
   "cell_type": "markdown",
   "metadata": {},
   "source": [
    "# Question 96\n",
    "## **Question**\n",
    "\n",
    "> **_You are given a string S and width W.\n",
    "> Your task is to wrap the string into a paragraph of width._**\n",
    "\n",
    "> **_If the following string is given as input to the program:_**\n",
    ">\n",
    "> ```\n",
    "> ABCDEFGHIJKLIMNOQRSTUVWXYZ\n",
    "> 4\n",
    "> ```\n",
    ">\n",
    "> **_Then, the output of the program should be:_**\n",
    ">\n",
    "> ```\n",
    "> ABCD\n",
    "> EFGH\n",
    "> IJKL\n",
    "> IMNO\n",
    "> QRST\n",
    "> UVWX\n",
    "> YZ\n",
    "> ```\n",
    "\n",
    "## Hints\n",
    "\n",
    "> **_Use wrap function of textwrap module_**\n",
    "\n",
    "---"
   ]
  },
  {
   "cell_type": "code",
   "execution_count": 5,
   "metadata": {
    "ExecuteTime": {
     "end_time": "2020-09-05T00:21:57.122147Z",
     "start_time": "2020-09-05T00:21:43.224910Z"
    }
   },
   "outputs": [
    {
     "name": "stdout",
     "output_type": "stream",
     "text": [
      "ABCDEFGHIJKLIMNOQRSTUVWXYZ\n",
      "4\n",
      "ABCD\n",
      "EFGH\n",
      "IJKL\n",
      "IMNO\n",
      "QRST\n",
      "UVWX\n",
      "YZ\n"
     ]
    }
   ],
   "source": [
    "import textwrap\n",
    "string = input()\n",
    "width = int(input())\n",
    "\n",
    "print(textwrap.fill(string, width))\n",
    "#This function wraps the input paragraph such that each line in the paragraph is at most width characters long. \n",
    "#The wrap method returns a list of output lines. The returned list is empty if the wrapped output has no content."
   ]
  },
  {
   "cell_type": "code",
   "execution_count": 7,
   "metadata": {
    "ExecuteTime": {
     "end_time": "2020-09-05T00:28:31.308703Z",
     "start_time": "2020-09-05T00:28:21.787517Z"
    }
   },
   "outputs": [
    {
     "name": "stdout",
     "output_type": "stream",
     "text": [
      "ABCDEFGHIJKLIMNOQRSTUVWXYZ\n",
      "4\n",
      "ABCD\n",
      "EFGH\n",
      "IJKL\n",
      "IMNO\n",
      "QRST\n",
      "UVWX\n",
      "YZ\n"
     ]
    }
   ],
   "source": [
    "import textwrap\n",
    "string = input()\n",
    "width = int(input())\n",
    "temp = list(textwrap.wrap(string, width))\n",
    "for i in temp:\n",
    "    print(i) "
   ]
  },
  {
   "cell_type": "markdown",
   "metadata": {},
   "source": [
    "# Question 97\n",
    "\n",
    "## **Question**\n",
    "\n",
    "> **_You are given an integer, N. Your task is to print an alphabet rangoli of size N. (Rangoli is a form of Indian folk art based on creation of patterns.)_**\n",
    "\n",
    "> **_Different sizes of alphabet rangoli are shown below:_**\n",
    ">\n",
    "> ```\n",
    "> #size 3\n",
    ">\n",
    "> ----c----\n",
    "> --c-b-c--\n",
    "> c-b-a-b-c\n",
    "> --c-b-c--\n",
    "> ----c----\n",
    ">\n",
    "> #size 5\n",
    ">\n",
    "> --------e--------\n",
    "> ------e-d-e------\n",
    "> ----e-d-c-d-e----\n",
    "> --e-d-c-b-c-d-e--\n",
    "> e-d-c-b-a-b-c-d-e\n",
    "> --e-d-c-b-c-d-e--\n",
    "> ----e-d-c-d-e----\n",
    "> ------e-d-e------\n",
    "> --------e--------\n",
    "> ```\n",
    "\n",
    "## Hints\n",
    "\n",
    "> **_First print the half of the Rangoli in the given way and save each line in a list. Then print the list in reverse order to get the rest._**\n",
    "\n",
    "---\n"
   ]
  },
  {
   "cell_type": "code",
   "execution_count": 15,
   "metadata": {
    "ExecuteTime": {
     "end_time": "2020-09-06T06:06:25.896891Z",
     "start_time": "2020-09-06T06:06:21.641536Z"
    }
   },
   "outputs": [
    {
     "name": "stdout",
     "output_type": "stream",
     "text": [
      "5\n",
      "--------e--------\n",
      "------e-d-e------\n",
      "----e-d-c-d-e----\n",
      "--e-d-c-b-c-d-e--\n",
      "e-d-c-b-a-b-c-d-e\n",
      "--e-d-c-b-c-d-e--\n",
      "----e-d-c-d-e----\n",
      "------e-d-e------\n",
      "--------e--------\n"
     ]
    }
   ],
   "source": [
    "import string\n",
    "\n",
    "def print_rangoli(size):\n",
    "    n = size\n",
    "    width = 4 * n - 3\n",
    "    char = string.ascii_lowercase #abcd...xyz\n",
    "    \n",
    "    ans = []\n",
    "    for i in range(n):\n",
    "        left = '-'.join(char[n-i-1: n])\n",
    "        mid = left[-1:0:-1] + left # connect\n",
    "        final = mid.center(width, '-')\n",
    "        ans.append(final)\n",
    "    \n",
    "    if len(ans) >1:\n",
    "        for i in ans[n-2::-1]:\n",
    "            ans.append(i)\n",
    "        \n",
    "    ans = '\\n'.join(ans)\n",
    "    print(ans)\n",
    "    \n",
    "if __name__ == '__main__':\n",
    "    n = int(input())\n",
    "    print_rangoli(n)\n",
    "        \n",
    "    \n",
    "    \n",
    "    "
   ]
  },
  {
   "cell_type": "markdown",
   "metadata": {},
   "source": [
    "\n",
    "# Question 98\n",
    "\n",
    "## **Question**\n",
    "\n",
    "> **_You are given a date. Your task is to find what the day is on that date._**\n",
    "\n",
    "**Input**\n",
    "\n",
    "> **_A single line of input containing the space separated month, day and year, respectively, in MM DD YYYY format._**\n",
    ">\n",
    "> ```\n",
    "> 08 05 2015\n",
    "> ```\n",
    "\n",
    "**Output**\n",
    "\n",
    "> **_Output the correct day in capital letters._**\n",
    ">\n",
    "> ```\n",
    "> WEDNESDAY\n",
    "> ```\n",
    "\n",
    "---\n",
    "\n",
    "## Hints\n",
    "\n",
    "> **_Use weekday function of calender module_**\n",
    "\n",
    "---"
   ]
  },
  {
   "cell_type": "code",
   "execution_count": 4,
   "metadata": {
    "ExecuteTime": {
     "end_time": "2020-09-06T05:35:23.952346Z",
     "start_time": "2020-09-06T05:35:12.260799Z"
    }
   },
   "outputs": [
    {
     "name": "stdout",
     "output_type": "stream",
     "text": [
      "08 05 2015\n",
      "WEDNESDAY\n"
     ]
    }
   ],
   "source": [
    "import calendar \n",
    "\n",
    "month, day, year = map(int, input().split())\n",
    "dayID = calendar.weekday(year, month, day)\n",
    "\n",
    "print(calendar.day_name[dayID].upper())"
   ]
  },
  {
   "cell_type": "markdown",
   "metadata": {},
   "source": [
    "# Question 99\n",
    "\n",
    "## **Question**\n",
    "\n",
    "> **_Given 2 sets of integers, M and N, print their symmetric difference in ascending order. The term symmetric difference indicates those values that exist in either M or N but do not exist in both._**\n",
    "\n",
    "**Input**\n",
    "\n",
    "> **_The first line of input contains an integer, M.The second line contains M space-separated integers.The third line contains an integer, N.The fourth line contains N space-separated integers._**\n",
    ">\n",
    "> ```\n",
    "> 4\n",
    "> 2 4 5 9\n",
    "> 4\n",
    "> 2 4 11 12\n",
    "> ```\n",
    "\n",
    "**Output**\n",
    "\n",
    "> **_Output the symmetric difference integers in ascending order, one per line._**<br>\n",
    "> In mathematics, the symmetric difference of two sets, also known as the disjunctive union, is the set of elements which are in either of the sets, but not in their intersection.\n",
    "> ```\n",
    "> 5\n",
    "> 9\n",
    "> 11\n",
    "> 12\n",
    "> ```\n",
    "\n",
    "---\n",
    "\n",
    "## Hints\n",
    "\n",
    "> **_Use \\'^\\' to make symmetric difference operation._**\n",
    "\n",
    "---\n"
   ]
  },
  {
   "cell_type": "code",
   "execution_count": 10,
   "metadata": {
    "ExecuteTime": {
     "end_time": "2020-09-06T05:56:03.440321Z",
     "start_time": "2020-09-06T05:55:53.620353Z"
    }
   },
   "outputs": [
    {
     "name": "stdout",
     "output_type": "stream",
     "text": [
      "2\n",
      "2 3 4\n",
      "3 \n",
      "2 3 5\n",
      "4\n",
      "5\n"
     ]
    }
   ],
   "source": [
    "if __name__ == '__main__':\n",
    "    n = int(input())\n",
    "    set1 = set(map(int,input().split()))\n",
    "    \n",
    "    m = int(input())\n",
    "    set2 = set(map(int, input().split()))\n",
    "    \n",
    "    ans = list(set1 ^ set2)\n",
    "    ans.sort()\n",
    "    for i in ans:\n",
    "        print(i)"
   ]
  }
 ],
 "metadata": {
  "hide_input": false,
  "kernelspec": {
   "display_name": "Python 3",
   "language": "python",
   "name": "python3"
  },
  "language_info": {
   "codemirror_mode": {
    "name": "ipython",
    "version": 3
   },
   "file_extension": ".py",
   "mimetype": "text/x-python",
   "name": "python",
   "nbconvert_exporter": "python",
   "pygments_lexer": "ipython3",
   "version": "3.7.3"
  },
  "toc": {
   "base_numbering": 1,
   "nav_menu": {},
   "number_sections": true,
   "sideBar": true,
   "skip_h1_title": false,
   "title_cell": "Table of Contents",
   "title_sidebar": "Contents",
   "toc_cell": false,
   "toc_position": {},
   "toc_section_display": true,
   "toc_window_display": false
  }
 },
 "nbformat": 4,
 "nbformat_minor": 2
}
