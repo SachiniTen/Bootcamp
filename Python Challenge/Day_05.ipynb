{
 "cells": [
  {
   "cell_type": "markdown",
   "metadata": {},
   "source": [
    "# Question 16\n",
    "\n",
    "## **Question:**\n",
    "\n",
    "> **_Use a list comprehension to square each odd number in a list. The list is input by a sequence of comma-separated numbers._** >**_Suppose the following input is supplied to the program:_**\n",
    "\n",
    "```\n",
    "1,2,3,4,5,6,7,8,9\n",
    "```\n",
    "\n",
    "> **_Then, the output should be:_**\n",
    "\n",
    "```\n",
    "1,9,25,49,81\n",
    "```\n",
    "\n",
    "---\n",
    "\n",
    "## Hints:\n",
    "\n",
    "> **_In case of input data being supplied to the question, it should be assumed to be a console input._**\n",
    "\n",
    "---"
   ]
  },
  {
   "cell_type": "code",
   "execution_count": 1,
   "metadata": {
    "ExecuteTime": {
     "end_time": "2020-08-19T23:08:04.047729Z",
     "start_time": "2020-08-19T23:07:53.624114Z"
    }
   },
   "outputs": [
    {
     "name": "stdout",
     "output_type": "stream",
     "text": [
      "1,2,3,4,5,6,7,8,9\n",
      "1,9,25,49,81\n"
     ]
    }
   ],
   "source": [
    "n_list = list(set(map(int, input().split(','))))\n",
    "print(*[i**2 for i in n_list if i%2==1], sep=',')"
   ]
  },
  {
   "cell_type": "markdown",
   "metadata": {},
   "source": [
    "# Question 17\n",
    "\n",
    "## **Question:**\n",
    "\n",
    "> **_Write a program that computes the net amount of a bank account based a transaction log from console input. The transaction log format is shown as following:_**\n",
    "\n",
    "```\n",
    "D 100\n",
    "W 200\n",
    "```\n",
    "\n",
    "- D means deposit while W means withdrawal.\n",
    "\n",
    "> **_Suppose the following input is supplied to the program:_**\n",
    "\n",
    "```\n",
    "D 300\n",
    "D 300\n",
    "W 200\n",
    "D 100\n",
    "```\n",
    "\n",
    "> **_Then, the output should be:_**\n",
    "\n",
    "```\n",
    "500\n",
    "```\n",
    "\n",
    "---\n",
    "\n",
    "## Hints:\n",
    "\n",
    "\n",
    "> **_In case of input data being supplied to the question, it should be assumed to be a console input._**"
   ]
  },
  {
   "cell_type": "code",
   "execution_count": 2,
   "metadata": {
    "ExecuteTime": {
     "end_time": "2020-08-19T23:08:26.309271Z",
     "start_time": "2020-08-19T23:08:04.051147Z"
    }
   },
   "outputs": [
    {
     "name": "stdout",
     "output_type": "stream",
     "text": [
      "D 300\n",
      "D 300\n",
      "W 200\n",
      "D 100\n",
      "\n",
      "500\n"
     ]
    }
   ],
   "source": [
    "lt=[]\n",
    "while True:\n",
    "    line=input()\n",
    "    if len(line)==0:\n",
    "        break\n",
    "    lt.append(line)\n",
    "    \n",
    "balance=0\n",
    "for line in lt:\n",
    "    if 'D' in line:\n",
    "        balance += int(line.strip('D '))\n",
    "    if 'W' in line:\n",
    "        balance -= int(line.strip('W '))\n",
    "print(balance)"
   ]
  },
  {
   "cell_type": "code",
   "execution_count": 3,
   "metadata": {
    "ExecuteTime": {
     "end_time": "2020-08-19T23:08:26.316620Z",
     "start_time": "2020-08-19T23:08:26.311757Z"
    }
   },
   "outputs": [
    {
     "name": "stdout",
     "output_type": "stream",
     "text": [
      "banan\n"
     ]
    }
   ],
   "source": [
    "#strip() method removes any leading (spaces at the beginning) and trailing (spaces at the end) \n",
    "#characters (space is the default leading character to remove)\n",
    "txt = \",,,,,rrttgg.....banana....rrr\"\n",
    "\n",
    "x = txt.strip(\",.grta\")\n",
    "\n",
    "print(x)"
   ]
  },
  {
   "cell_type": "code",
   "execution_count": 4,
   "metadata": {
    "ExecuteTime": {
     "end_time": "2020-08-19T23:08:45.999347Z",
     "start_time": "2020-08-19T23:08:26.319049Z"
    }
   },
   "outputs": [
    {
     "name": "stdout",
     "output_type": "stream",
     "text": [
      "D 300\n",
      "D 300\n",
      "W 200\n",
      "D 200\n",
      "\n",
      "600\n"
     ]
    }
   ],
   "source": [
    "balance=0\n",
    "while True:\n",
    "    line= input().split()\n",
    "    if not line:\n",
    "        break\n",
    "    cmd, num = map(str,line)\n",
    "    if cmd == 'D':\n",
    "        balance+=int(num)\n",
    "    if cmd == 'W':\n",
    "        balance-=int(num)\n",
    "print(balance)"
   ]
  }
 ],
 "metadata": {
  "hide_input": false,
  "kernelspec": {
   "display_name": "Python 3",
   "language": "python",
   "name": "python3"
  },
  "language_info": {
   "codemirror_mode": {
    "name": "ipython",
    "version": 3
   },
   "file_extension": ".py",
   "mimetype": "text/x-python",
   "name": "python",
   "nbconvert_exporter": "python",
   "pygments_lexer": "ipython3",
   "version": "3.7.3"
  },
  "toc": {
   "base_numbering": 1,
   "nav_menu": {},
   "number_sections": true,
   "sideBar": true,
   "skip_h1_title": false,
   "title_cell": "Table of Contents",
   "title_sidebar": "Contents",
   "toc_cell": false,
   "toc_position": {},
   "toc_section_display": true,
   "toc_window_display": false
  }
 },
 "nbformat": 4,
 "nbformat_minor": 2
}
