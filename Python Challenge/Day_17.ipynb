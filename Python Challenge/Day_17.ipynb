{
 "cells": [
  {
   "cell_type": "markdown",
   "metadata": {},
   "source": [
    "# Question 65\n",
    "\n",
    "## **Question**\n",
    "\n",
    "> **_Please write assert statements to verify that every number in the list [2,4,6,8] is even._**\n",
    "\n",
    "---\n",
    "\n",
    "## Hints\n",
    "\n",
    "> **_Use \"assert expression\" to make assertion._**\n",
    "\n",
    "---"
   ]
  },
  {
   "cell_type": "code",
   "execution_count": 2,
   "metadata": {
    "ExecuteTime": {
     "end_time": "2020-08-30T05:10:43.826395Z",
     "start_time": "2020-08-30T05:10:43.718249Z"
    }
   },
   "outputs": [
    {
     "ename": "AssertionError",
     "evalue": "5 is not an even number",
     "output_type": "error",
     "traceback": [
      "\u001b[0;31m---------------------------------------------------------------------------\u001b[0m",
      "\u001b[0;31mAssertionError\u001b[0m                            Traceback (most recent call last)",
      "\u001b[0;32m<ipython-input-2-9064f4a87015>\u001b[0m in \u001b[0;36m<module>\u001b[0;34m\u001b[0m\n\u001b[1;32m      1\u001b[0m \u001b[0mdata_list\u001b[0m \u001b[0;34m=\u001b[0m \u001b[0;34m[\u001b[0m\u001b[0;36m2\u001b[0m\u001b[0;34m,\u001b[0m\u001b[0;36m4\u001b[0m\u001b[0;34m,\u001b[0m\u001b[0;36m5\u001b[0m\u001b[0;34m,\u001b[0m\u001b[0;36m8\u001b[0m\u001b[0;34m]\u001b[0m\u001b[0;34m\u001b[0m\u001b[0;34m\u001b[0m\u001b[0m\n\u001b[1;32m      2\u001b[0m \u001b[0;32mfor\u001b[0m \u001b[0mi\u001b[0m \u001b[0;32min\u001b[0m \u001b[0mdata_list\u001b[0m\u001b[0;34m:\u001b[0m\u001b[0;34m\u001b[0m\u001b[0;34m\u001b[0m\u001b[0m\n\u001b[0;32m----> 3\u001b[0;31m     \u001b[0;32massert\u001b[0m \u001b[0mi\u001b[0m\u001b[0;34m%\u001b[0m\u001b[0;36m2\u001b[0m\u001b[0;34m==\u001b[0m\u001b[0;36m0\u001b[0m\u001b[0;34m,\u001b[0m \u001b[0;34m\"{} is not an even number\"\u001b[0m\u001b[0;34m.\u001b[0m\u001b[0mformat\u001b[0m\u001b[0;34m(\u001b[0m\u001b[0mi\u001b[0m\u001b[0;34m)\u001b[0m\u001b[0;34m\u001b[0m\u001b[0;34m\u001b[0m\u001b[0m\n\u001b[0m",
      "\u001b[0;31mAssertionError\u001b[0m: 5 is not an even number"
     ]
    }
   ],
   "source": [
    "data_list = [2,4,5,8]\n",
    "for i in data_list:\n",
    "    assert i%2==0, \"{} is not an even number\".format(i)"
   ]
  },
  {
   "cell_type": "markdown",
   "metadata": {},
   "source": [
    "\n",
    "# Question 66\n",
    "\n",
    "## **Question**\n",
    "\n",
    "> **_Please write a program which accepts basic mathematic expression from console and print the evaluation result._**\n",
    "\n",
    "> **_Example:\n",
    "> If the following n is given as input to the program:_**\n",
    "\n",
    "```\n",
    "35 + 3\n",
    "```\n",
    "\n",
    "> **_Then, the output of the program should be:_**\n",
    "\n",
    "```\n",
    "38\n",
    "```\n",
    "\n",
    "---\n",
    "\n",
    "## Hints\n",
    "\n",
    "> **_Use eval() to evaluate an expression._**\n",
    "\n",
    "---"
   ]
  },
  {
   "cell_type": "code",
   "execution_count": 3,
   "metadata": {
    "ExecuteTime": {
     "end_time": "2020-08-30T05:14:08.941301Z",
     "start_time": "2020-08-30T05:14:03.042749Z"
    }
   },
   "outputs": [
    {
     "name": "stdout",
     "output_type": "stream",
     "text": [
      "35 + 3\n",
      "38\n"
     ]
    }
   ],
   "source": [
    "expression = input()\n",
    "ans = eval(expression)\n",
    "print(ans)"
   ]
  },
  {
   "cell_type": "markdown",
   "metadata": {},
   "source": [
    "# Question 67\n",
    "\n",
    "## **Question**\n",
    "\n",
    "> **_Please write a binary search function which searches an item in a sorted list. The function should return the index of element to be searched in the list._**\n",
    "\n",
    "---\n",
    "\n",
    "## Hints\n",
    "\n",
    "> **_Use if/elif to deal with conditions._**\n",
    "\n",
    "---"
   ]
  },
  {
   "cell_type": "code",
   "execution_count": 5,
   "metadata": {
    "ExecuteTime": {
     "end_time": "2020-08-30T05:23:26.552841Z",
     "start_time": "2020-08-30T05:23:26.543348Z"
    }
   },
   "outputs": [
    {
     "name": "stdout",
     "output_type": "stream",
     "text": [
      "4\n"
     ]
    }
   ],
   "source": [
    "def binary_search(lst,item):\n",
    "    bottom = 0\n",
    "    top = len(lst) - 1\n",
    "    while bottom <= top:\n",
    "        mid = round((bottom + top)/2)\n",
    "        \n",
    "        if lst[mid] == item:\n",
    "            return mid \n",
    "        elif lst[mid] > item:\n",
    "            top = mid - 1\n",
    "        else:\n",
    "            bottom = mid + 1\n",
    "\n",
    "lst= [1,3,5,7,11]\n",
    "print(binary_search(lst, 11))\n"
   ]
  },
  {
   "cell_type": "markdown",
   "metadata": {},
   "source": [
    "# Question 68\n",
    "\n",
    "## **Question**\n",
    "\n",
    "> **_Please generate a random float where the value is between 10 and 100 using Python module._**\n",
    "\n",
    "---\n",
    "\n",
    "## Hints\n",
    "\n",
    "> **_Use random.random() to generate a random float in [0,1]._**\n",
    "\n",
    "---\n",
    "\n",
    "\n",
    "**Main author's Solution: Python 2**\n",
    "\n",
    "```python\n",
    "import random\n",
    "print random.random()*100\n",
    "```\n",
    "\n",
    "---"
   ]
  },
  {
   "cell_type": "code",
   "execution_count": 7,
   "metadata": {
    "ExecuteTime": {
     "end_time": "2020-08-30T05:26:56.153441Z",
     "start_time": "2020-08-30T05:26:56.149431Z"
    }
   },
   "outputs": [
    {
     "name": "stdout",
     "output_type": "stream",
     "text": [
      "45.23564749252216\n"
     ]
    }
   ],
   "source": [
    "import random\n",
    "ans = random.uniform(10,100)\n",
    "print(ans)"
   ]
  },
  {
   "cell_type": "markdown",
   "metadata": {},
   "source": [
    "# Question 69\n",
    "\n",
    "## **Question**\n",
    "\n",
    "> **_Please generate a random float where the value is between 5 and 95 using Python module._**\n",
    "\n",
    "---\n",
    "\n",
    "## Hints\n",
    "\n",
    "> **_Use random.random() to generate a random float in [0,1]._**\n",
    "\n",
    "---\n",
    "\n",
    "**Main author's Solution: Python 2**\n",
    "\n",
    "```python\n",
    "import random\n",
    "print random.random()*100-5\n",
    "```\n",
    "\n",
    "---"
   ]
  },
  {
   "cell_type": "code",
   "execution_count": 8,
   "metadata": {
    "ExecuteTime": {
     "end_time": "2020-08-30T05:27:59.479342Z",
     "start_time": "2020-08-30T05:27:59.475860Z"
    }
   },
   "outputs": [
    {
     "name": "stdout",
     "output_type": "stream",
     "text": [
      "6.317926197218825\n"
     ]
    }
   ],
   "source": [
    "import random \n",
    "ans= random.uniform(5,95)\n",
    "print(ans)"
   ]
  }
 ],
 "metadata": {
  "hide_input": false,
  "kernelspec": {
   "display_name": "Python 3",
   "language": "python",
   "name": "python3"
  },
  "language_info": {
   "codemirror_mode": {
    "name": "ipython",
    "version": 3
   },
   "file_extension": ".py",
   "mimetype": "text/x-python",
   "name": "python",
   "nbconvert_exporter": "python",
   "pygments_lexer": "ipython3",
   "version": "3.7.3"
  },
  "toc": {
   "base_numbering": 1,
   "nav_menu": {},
   "number_sections": true,
   "sideBar": true,
   "skip_h1_title": false,
   "title_cell": "Table of Contents",
   "title_sidebar": "Contents",
   "toc_cell": false,
   "toc_position": {},
   "toc_section_display": true,
   "toc_window_display": false
  }
 },
 "nbformat": 4,
 "nbformat_minor": 2
}
