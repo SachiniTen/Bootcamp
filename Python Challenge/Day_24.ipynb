{
 "cells": [
  {
   "cell_type": "markdown",
   "metadata": {},
   "source": [
    "# Question 100\n",
    "\n",
    "## **Question**\n",
    "\n",
    "> **_You are given words. Some words may repeat. For each word, output its number of occurrences. The output order should correspond with the input order of appearance of the word. See the sample input/output for clarification._**\n",
    "\n",
    "> **_If the following string is given as input to the program:_**\n",
 "> **_If the following string is given as input to the program111111111111111111111111:_**\n",
    ">\n",
    "> ```\n",
    "> 4\n",
    "> bcdef\n",
    "> abcdefg\n",
    "> bcde\n",
    "> bcdef\n",
    "> ```\n",
    ">\n",
    "> **_Then, the output of the program should be:_**\n",
    ">\n",
    "> ```\n",
    "> 3\n",
    "> 2 1 1\n",
    "> ```\n",
    "\n",
    "## Hints\n",
    "\n",
    "> **_Make a list to get the input order and a dictionary to count the word frequency_**\n",
    "\n",
    "---"
   ]
  },
  {
   "cell_type": "code",
   "execution_count": 1,
   "metadata": {
    "ExecuteTime": {
     "end_time": "2020-09-06T06:21:12.485168Z",
     "start_time": "2020-09-06T06:20:39.659797Z"
    }
   },
   "outputs": [
    {
     "name": "stdout",
     "output_type": "stream",
     "text": [
      "4\n",
      "bcdef\n",
      "abcdefg\n",
      "bcde\n",
      "bcdef\n",
      "3\n",
      "bcdef:2 abcdefg:1 bcde:1 "
     ]
    }
   ],
   "source": [
    "n = int(input())\n",
    "\n",
    "word_list = []\n",
    "word_dict = {}\n",
    "\n",
    "for i in range(n):\n",
    "    word = input()\n",
    "    if word not in word_dict:\n",
    "        word_list.append(word)\n",
    "    word_dict[word] = word_dict.get(word, 0) + 1\n",
    "    # dictionary.get(keyname, value)\n",
    "    # keyname: Required. The keyname of the item you want to return the value from\n",
    "    # value: Optional. A value to return if the specified key does not exist. Default value None\n",
    "\n",
    "print(len(word_list))\n",
    "for word in word_list:\n",
    "    print('{0}:{1}'.format(word, word_dict[word]), end = ' ') #, end=' '"
   ]
  },
  {
   "cell_type": "markdown",
   "metadata": {},
   "source": [
    "\n",
    "# Question 101\n",
    "\n",
    "## **Question**\n",
    "\n",
    "> **_You are given a string.Your task is to count the frequency of letters of the string and print the letters in descending order of frequency._**\n",
    "\n",
    "> **_If the following string is given as input to the program:_**\n",
    ">\n",
    "> ```\n",
    "> aabbbccde\n",
    "> ```\n",
    ">\n",
    "> **_Then, the output of the program should be:_**\n",
    ">\n",
    "> ```\n",
    "> b 3\n",
    "> a 2\n",
    "> c 2\n",
    "> d 1\n",
    "> e 1\n",
    "> ```\n",
    "\n",
    "## Hints\n",
    "\n",
    "> **_Count frequency with dictionary and sort by Value from dictionary Items_**\n",
    "\n",
    "---"
   ]
  },
  {
   "cell_type": "code",
   "execution_count": 7,
   "metadata": {
    "ExecuteTime": {
     "end_time": "2020-09-06T06:28:25.180158Z",
     "start_time": "2020-09-06T06:28:22.553012Z"
    }
   },
   "outputs": [
    {
     "name": "stdout",
     "output_type": "stream",
     "text": [
      "aabbbccde\n",
      "b 3\n",
      "c 2\n",
      "a 2\n",
      "e 1\n",
      "d 1\n"
     ]
    }
   ],
   "source": [
    "word = input()\n",
    "dct = {}\n",
    "for i in word:\n",
    "    dct[i] = dct.get(i, 0) + 1 \n",
    "\n",
    "dct = sorted(dct.items(), key= lambda x: (x[1], x[0]), reverse= True)\n",
    "for i in dct:\n",
    "    print(i[0], i[1])"
   ]
  },
  {
   "cell_type": "markdown",
   "metadata": {},
   "source": [
    "# Question 102\n",
    "\n",
    "## **Question**\n",
    "\n",
    "> **_Write a Python program that accepts a string and calculate the number of digits and letters._**\n",
    "\n",
    "**Input**\n",
    "\n",
    "> ```\n",
    "> Hello321Bye360\n",
    "> ```\n",
    "\n",
    "**Output**\n",
    "\n",
    "> ```\n",
    "> Digit - 6\n",
    "> Letter - 8\n",
    "> ```\n",
    "\n",
    "---\n",
    "\n",
    "## Hints\n",
    "\n",
    "> **_Use isdigit() and isalpha() function_**\n",
    "\n",
    "---"
   ]
  },
  {
   "cell_type": "code",
   "execution_count": 8,
   "metadata": {
    "ExecuteTime": {
     "end_time": "2020-09-06T06:31:13.263585Z",
     "start_time": "2020-09-06T06:31:04.073921Z"
    }
   },
   "outputs": [
    {
     "name": "stdout",
     "output_type": "stream",
     "text": [
      "Hello321Bye360\n",
      "Digit-6\n",
      "Letter-8\n"
     ]
    }
   ],
   "source": [
    "word = input()\n",
    "digit, letter = 0,0 \n",
    "for char in word:\n",
    "    digit+=char.isdigit()\n",
    "    letter+=char.isalpha()\n",
    "\n",
    "print('Digit-{0}'.format(digit))\n",
    "print('Letter-{0}'.format(letter))"
   ]
  },
  {
   "cell_type": "markdown",
   "metadata": {},
   "source": [
    "# Question 103\n",
    "\n",
    "## **Question**\n",
    "\n",
    "> **_Given a number N.Find Sum of 1 to N Using Recursion_**\n",
    "\n",
    "**Input**\n",
    "\n",
    "> ```\n",
    "> 5\n",
    "> ```\n",
    "\n",
    "**Output**\n",
    "\n",
    "> ```\n",
    "> 15\n",
    "> ```\n",
    "\n",
    "---\n",
    "\n",
    "## Hints\n",
    "\n",
    "> **_Make a recursive function to get the sum_**\n",
    "\n",
    "---"
   ]
  },
  {
   "cell_type": "code",
   "execution_count": 9,
   "metadata": {
    "ExecuteTime": {
     "end_time": "2020-09-06T06:32:46.273020Z",
     "start_time": "2020-09-06T06:32:43.806241Z"
    }
   },
   "outputs": [
    {
     "name": "stdout",
     "output_type": "stream",
     "text": [
      "5\n",
      "15\n"
     ]
    }
   ],
   "source": [
    "def sumn(n):\n",
    "    if n == 0:\n",
    "        return n \n",
    "    return sumn(n-1) + n\n",
    "\n",
    "n= int(input())\n",
    "print(sumn(n))"
   ]
  }
 ],
 "metadata": {
  "hide_input": false,
  "kernelspec": {
   "display_name": "Python 3",
   "language": "python",
   "name": "python3"
  },
  "language_info": {
   "codemirror_mode": {
    "name": "ipython",
    "version": 3
   },
   "file_extension": ".py",
   "mimetype": "text/x-python",
   "name": "python",
   "nbconvert_exporter": "python",
   "pygments_lexer": "ipython3",
   "version": "3.7.3"
  },
  "toc": {
   "base_numbering": 1,
   "nav_menu": {},
   "number_sections": true,
   "sideBar": true,
   "skip_h1_title": false,
   "title_cell": "Table of Contents",
   "title_sidebar": "Contents",
   "toc_cell": false,
   "toc_position": {},
   "toc_section_display": true,
   "toc_window_display": false
  }
 },
 "nbformat": 4,
 "nbformat_minor": 2
}
