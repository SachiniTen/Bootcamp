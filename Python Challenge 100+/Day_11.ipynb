{
 "cells": [
  {
   "cell_type": "markdown",
   "metadata": {},
   "source": [
    "# Question 38\n",
    "\n",
    "## **Question:**\n",
    "\n",
    "> **_With a given tuple (1,2,3,4,5,6,7,8,9,10), write a program to print the first half values in one line and the last half values in one line._**\n",
    "\n",
    "---\n",
    "\n",
    "## Hints:\n",
    "\n",
    "> **_Use [n1:n2] notation to get a slice from a tuple._**\n",
    "\n",
    "---"
   ]
  },
  {
   "cell_type": "code",
   "execution_count": 3,
   "metadata": {
    "ExecuteTime": {
     "end_time": "2020-08-23T21:45:24.499082Z",
     "start_time": "2020-08-23T21:45:24.495249Z"
    }
   },
   "outputs": [
    {
     "name": "stdout",
     "output_type": "stream",
     "text": [
      "(1, 2, 3, 4, 5)\n",
      "(6, 7, 8, 9, 10)\n"
     ]
    }
   ],
   "source": [
    "tup = (1,2,3,4,5,6,7,8,9,10)\n",
    "mid=int(len(tup)/2)\n",
    "print('{0}\\n{1}'.format(tup[:mid],tup[mid:]))"
   ]
  },
  {
   "cell_type": "markdown",
   "metadata": {},
   "source": [
    "# Question 39\n",
    "\n",
    "## **Question:**\n",
    "\n",
    "> **_Write a program to generate and print another tuple whose values are even numbers in the given tuple (1,2,3,4,5,6,7,8,9,10)._**\n",
    "\n",
    "---\n",
    "\n",
    "## Hints:\n",
    "\n",
    "> **_Use \"for\" to iterate the tuple. Use tuple() to generate a tuple from a list._**\n",
    "\n",
    "---"
   ]
  },
  {
   "cell_type": "code",
   "execution_count": 5,
   "metadata": {
    "ExecuteTime": {
     "end_time": "2020-08-23T21:49:08.603150Z",
     "start_time": "2020-08-23T21:49:08.597986Z"
    }
   },
   "outputs": [
    {
     "name": "stdout",
     "output_type": "stream",
     "text": [
      "(2, 4, 6, 8, 10)\n"
     ]
    }
   ],
   "source": [
    "tup = (1,2,3,4,5,6,7,8,9,10)\n",
    "print(tuple(i for i in tup if i%2==0))"
   ]
  },
  {
   "cell_type": "markdown",
   "metadata": {},
   "source": [
    "# Question 40\n",
    "\n",
    "## **Question:**\n",
    "\n",
    "> **_Write a program which accepts a string as input to print \"Yes\" if the string is \"yes\" or \"YES\" or \"Yes\", otherwise print \"No\"._**\n",
    "\n",
    "---\n",
    "\n",
    "### Hints:\n",
    "\n",
    "> **_Use if statement to judge condition._**\n",
    "\n",
    "---"
   ]
  },
  {
   "cell_type": "code",
   "execution_count": 6,
   "metadata": {
    "ExecuteTime": {
     "end_time": "2020-08-23T21:52:39.636448Z",
     "start_time": "2020-08-23T21:52:34.897673Z"
    }
   },
   "outputs": [
    {
     "name": "stdout",
     "output_type": "stream",
     "text": [
      "Yes\n",
      "Yes\n"
     ]
    }
   ],
   "source": [
    "string=str(input().lower())\n",
    "if string == 'yes':\n",
    "    print('Yes')\n",
    "else:\n",
    "    print('No')"
   ]
  },
  {
   "cell_type": "markdown",
   "metadata": {},
   "source": [
    "\n",
    "# Question 41\n",
    "\n",
    "## **Question:**\n",
    "\n",
    "> **_Write a program which can map() to make a list whose elements are square of elements in [1,2,3,4,5,6,7,8,9,10]._**\n",
    "\n",
    "---\n",
    "\n",
    "## Hints:\n",
    "\n",
    "> **_Use map() to generate a list.Use lambda to define anonymous functions._**\n",
    "\n",
    "---"
   ]
  },
  {
   "cell_type": "code",
   "execution_count": 18,
   "metadata": {
    "ExecuteTime": {
     "end_time": "2020-08-23T22:01:02.313758Z",
     "start_time": "2020-08-23T22:01:02.309492Z"
    }
   },
   "outputs": [
    {
     "name": "stdout",
     "output_type": "stream",
     "text": [
      "1 4 9 16 25 36 49 64 81 100\n"
     ]
    }
   ],
   "source": [
    "lt= range(1,11)\n",
    "print(* [i**2 for i in lt])"
   ]
  },
  {
   "cell_type": "code",
   "execution_count": 19,
   "metadata": {
    "ExecuteTime": {
     "end_time": "2020-08-23T22:01:04.114705Z",
     "start_time": "2020-08-23T22:01:04.110545Z"
    }
   },
   "outputs": [
    {
     "name": "stdout",
     "output_type": "stream",
     "text": [
      "1 4 9 16 25 36 49 64 81 100\n"
     ]
    }
   ],
   "source": [
    "lt= range(1,11)\n",
    "SquaredNumbers = map(lambda x: x**2, lt)\n",
    "print(*SquaredNumbers)"
   ]
  },
  {
   "cell_type": "markdown",
   "metadata": {},
   "source": [
    "# Question 42\n",
    "\n",
    "## **Question:**\n",
    "\n",
    "> **_Write a program which can map() and filter() to make a list whose elements are square of even number in [1,2,3,4,5,6,7,8,9,10]._**\n",
    "\n",
    "---\n",
    "\n",
    "## Hints:\n",
    "\n",
    "> **_Use map() to generate a list.Use filter() to filter elements of a list.Use lambda to define anonymous functions._**\n",
    "\n",
    "---"
   ]
  },
  {
   "cell_type": "code",
   "execution_count": 28,
   "metadata": {
    "ExecuteTime": {
     "end_time": "2020-08-23T22:19:05.293599Z",
     "start_time": "2020-08-23T22:19:05.289174Z"
    }
   },
   "outputs": [
    {
     "name": "stdout",
     "output_type": "stream",
     "text": [
      "[4, 16, 36, 64, 100]\n"
     ]
    }
   ],
   "source": [
    "lt= range(1,11)\n",
    "def even(x):\n",
    "    return x%2==0\n",
    "SquaredNumbers = list(map(lambda x: x**2, filter(even,lt)))\n",
    "print(SquaredNumbers)\n"
   ]
  },
  {
   "cell_type": "markdown",
   "metadata": {},
   "source": [
    "# Question 43\n",
    "\n",
    "## **Question:**\n",
    "\n",
    "> **_Write a program which can filter() to make a list whose elements are even number between 1 and 20 (both included)._**\n",
    "\n",
    "---\n",
    "\n",
    "## Hints:\n",
    "\n",
    "> **_Use filter() to filter elements of a list.Use lambda to define anonymous functions._**\n",
    "\n",
    "---"
   ]
  },
  {
   "cell_type": "code",
   "execution_count": 29,
   "metadata": {
    "ExecuteTime": {
     "end_time": "2020-08-23T22:19:07.400561Z",
     "start_time": "2020-08-23T22:19:07.397202Z"
    }
   },
   "outputs": [
    {
     "name": "stdout",
     "output_type": "stream",
     "text": [
      "[2, 4, 6, 8, 10, 12, 14, 16, 18, 20]\n"
     ]
    }
   ],
   "source": [
    "lt= range(1,21)\n",
    "lt=filter(even,lt)\n",
    "print(list(lt))"
   ]
  }
 ],
 "metadata": {
  "hide_input": false,
  "kernelspec": {
   "display_name": "Python 3",
   "language": "python",
   "name": "python3"
  },
  "language_info": {
   "codemirror_mode": {
    "name": "ipython",
    "version": 3
   },
   "file_extension": ".py",
   "mimetype": "text/x-python",
   "name": "python",
   "nbconvert_exporter": "python",
   "pygments_lexer": "ipython3",
   "version": "3.7.3"
  },
  "toc": {
   "base_numbering": 1,
   "nav_menu": {},
   "number_sections": true,
   "sideBar": true,
   "skip_h1_title": false,
   "title_cell": "Table of Contents",
   "title_sidebar": "Contents",
   "toc_cell": false,
   "toc_position": {},
   "toc_section_display": true,
   "toc_window_display": false
  }
 },
 "nbformat": 4,
 "nbformat_minor": 2
}
