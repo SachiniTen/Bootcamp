{
 "cells": [
  {
   "cell_type": "markdown",
   "metadata": {},
   "source": [
    "# Question 47\n",
    "\n",
    "## **Question**\n",
    "\n",
    "> **_Define a class named Circle which can be constructed by a radius. The Circle class has a method which can compute the area._**\n",
    "\n",
    "---\n",
    "\n",
    "## Hints\n",
    "\n",
    "> **_Use def methodName(self) to define a method._**\n",
    "\n",
    "---"
   ]
  },
  {
   "cell_type": "code",
   "execution_count": 11,
   "metadata": {
    "ExecuteTime": {
     "end_time": "2020-08-25T23:41:46.482121Z",
     "start_time": "2020-08-25T23:41:46.476325Z"
    }
   },
   "outputs": [
    {
     "name": "stdout",
     "output_type": "stream",
     "text": [
      "12.5667704\n"
     ]
    }
   ],
   "source": [
    "class Circle():\n",
    "    def __init__(self,r):\n",
    "        self.radius = r\n",
    "        \n",
    "    def area(self):\n",
    "        return 3.1416926*(self.radius**2)\n",
    "    \n",
    "circle= Circle(2)\n",
    "print(circle.area())"
   ]
  },
  {
   "cell_type": "markdown",
   "metadata": {
    "ExecuteTime": {
     "end_time": "2020-08-25T23:41:09.352552Z",
     "start_time": "2020-08-25T23:41:09.347195Z"
    }
   },
   "source": [
    "# Question 48\n",
    "\n",
    "## **Question**\n",
    "\n",
    "> **_Define a class named Rectangle which can be constructed by a length and width. The Rectangle class has a method which can compute the area._**\n",
    "\n",
    "---\n",
    "\n",
    "## Hints\n",
    "\n",
    "> **_Use def methodName(self) to define a method._**\n",
    "\n",
    "---"
   ]
  },
  {
   "cell_type": "code",
   "execution_count": 12,
   "metadata": {
    "ExecuteTime": {
     "end_time": "2020-08-25T23:47:16.699627Z",
     "start_time": "2020-08-25T23:47:16.691323Z"
    }
   },
   "outputs": [
    {
     "name": "stdout",
     "output_type": "stream",
     "text": [
      "10\n"
     ]
    }
   ],
   "source": [
    "class Rectangle():\n",
    "    def __init__(self, l, w):\n",
    "        self.length=l\n",
    "        self.width=w\n",
    "    \n",
    "    def area(self):\n",
    "        return self.length*self.width\n",
    "\n",
    "rect=Rectangle(2,5)\n",
    "print(rect.area())"
   ]
  },
  {
   "cell_type": "markdown",
   "metadata": {},
   "source": [
    "# Question 49\n",
    "\n",
    "## Question\n",
    "\n",
    "> **_Define a class named Shape and its subclass Square. The Square class has an init function which takes a length as argument. Both classes have a area function which can print the area of the shape where Shape's area is 0 by default._**\n",
    "\n",
    "---\n",
    "\n",
    "## Hints\n",
    "\n",
    "> **_To override a method in super class, we can define a method with the same name in the super class._**\n",
    "\n",
    "---"
   ]
  },
  {
   "cell_type": "code",
   "execution_count": 16,
   "metadata": {
    "ExecuteTime": {
     "end_time": "2020-08-26T00:01:52.395108Z",
     "start_time": "2020-08-26T00:01:52.387949Z"
    }
   },
   "outputs": [
    {
     "name": "stdout",
     "output_type": "stream",
     "text": [
      "9\n",
      "0\n"
     ]
    }
   ],
   "source": [
    "class Shape():\n",
    "    def __init__(self):\n",
    "        pass\n",
    "    def area(self):\n",
    "        return 0\n",
    "    \n",
    "class Square(Shape):\n",
    "    def __init__(self, length=0):\n",
    "        Shape.__init__(self)\n",
    "        self.length=length\n",
    "    def area(self):\n",
    "        return self.length**2\n",
    "\n",
    "asqr = Square(3)\n",
    "print(asqr.area())\n",
    "print(Square().area())"
   ]
  },
  {
   "cell_type": "markdown",
   "metadata": {},
   "source": [
    "# Question 50\n",
    "\n",
    "## **Question**\n",
    "\n",
    "> **_Please raise a RuntimeError exception._**\n",
    "\n",
    "---\n",
    "\n",
    "## Hints\n",
    "\n",
    "> **_Use raise() to raise an exception._**\n",
    "\n",
    "---"
   ]
  },
  {
   "cell_type": "code",
   "execution_count": 13,
   "metadata": {
    "ExecuteTime": {
     "end_time": "2020-08-25T23:54:13.993136Z",
     "start_time": "2020-08-25T23:54:13.977701Z"
    }
   },
   "outputs": [
    {
     "ename": "RuntimeError",
     "evalue": "something wrong",
     "output_type": "error",
     "traceback": [
      "\u001b[0;31m---------------------------------------------------------------------------\u001b[0m",
      "\u001b[0;31mRuntimeError\u001b[0m                              Traceback (most recent call last)",
      "\u001b[0;32m<ipython-input-13-53fba0153627>\u001b[0m in \u001b[0;36m<module>\u001b[0;34m\u001b[0m\n\u001b[0;32m----> 1\u001b[0;31m \u001b[0;32mraise\u001b[0m \u001b[0mRuntimeError\u001b[0m\u001b[0;34m(\u001b[0m\u001b[0;34m'something wrong'\u001b[0m\u001b[0;34m)\u001b[0m\u001b[0;34m\u001b[0m\u001b[0;34m\u001b[0m\u001b[0m\n\u001b[0m",
      "\u001b[0;31mRuntimeError\u001b[0m: something wrong"
     ]
    }
   ],
   "source": [
    "raise RuntimeError('something wrong')"
   ]
  }
 ],
 "metadata": {
  "hide_input": false,
  "kernelspec": {
   "display_name": "Python 3",
   "language": "python",
   "name": "python3"
  },
  "language_info": {
   "codemirror_mode": {
    "name": "ipython",
    "version": 3
   },
   "file_extension": ".py",
   "mimetype": "text/x-python",
   "name": "python",
   "nbconvert_exporter": "python",
   "pygments_lexer": "ipython3",
   "version": "3.7.3"
  },
  "toc": {
   "base_numbering": 1,
   "nav_menu": {},
   "number_sections": true,
   "sideBar": true,
   "skip_h1_title": false,
   "title_cell": "Table of Contents",
   "title_sidebar": "Contents",
   "toc_cell": false,
   "toc_position": {},
   "toc_section_display": true,
   "toc_window_display": false
  }
 },
 "nbformat": 4,
 "nbformat_minor": 2
}
