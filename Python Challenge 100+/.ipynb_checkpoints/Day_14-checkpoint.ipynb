{
 "cells": [
  {
   "cell_type": "markdown",
   "metadata": {},
   "source": [
    "# Question 51\n",
    "\n",
    "## **Question**\n",
    "\n",
    "> ***Write a function to compute 5/0 and use try/except to catch the exceptions.***\n",
    "\n",
    "----------------------\n",
    "## Hints \n",
    "> ***Use try/except to catch exceptions.***\n",
    "\n",
    "----------------------"
   ]
  },
  {
   "cell_type": "code",
   "execution_count": 1,
   "metadata": {
    "ExecuteTime": {
     "end_time": "2020-08-26T23:28:13.302752Z",
     "start_time": "2020-08-26T23:28:13.294536Z"
    }
   },
   "outputs": [],
   "source": [
    "def divide5_0():\n",
    "    return 5/0"
   ]
  },
  {
   "cell_type": "code",
   "execution_count": 3,
   "metadata": {
    "ExecuteTime": {
     "end_time": "2020-08-26T23:28:38.762866Z",
     "start_time": "2020-08-26T23:28:38.752951Z"
    }
   },
   "outputs": [
    {
     "ename": "ZeroDivisionError",
     "evalue": "division by zero",
     "output_type": "error",
     "traceback": [
      "\u001b[0;31m---------------------------------------------------------------------------\u001b[0m",
      "\u001b[0;31mZeroDivisionError\u001b[0m                         Traceback (most recent call last)",
      "\u001b[0;32m<ipython-input-3-3261f9e0a50c>\u001b[0m in \u001b[0;36m<module>\u001b[0;34m\u001b[0m\n\u001b[0;32m----> 1\u001b[0;31m \u001b[0mprint\u001b[0m\u001b[0;34m(\u001b[0m\u001b[0mdivide5_0\u001b[0m\u001b[0;34m(\u001b[0m\u001b[0;34m)\u001b[0m\u001b[0;34m)\u001b[0m\u001b[0;34m\u001b[0m\u001b[0;34m\u001b[0m\u001b[0m\n\u001b[0m",
      "\u001b[0;32m<ipython-input-1-3e9f5cc8b739>\u001b[0m in \u001b[0;36mdivide5_0\u001b[0;34m()\u001b[0m\n\u001b[1;32m      1\u001b[0m \u001b[0;32mdef\u001b[0m \u001b[0mdivide5_0\u001b[0m\u001b[0;34m(\u001b[0m\u001b[0;34m)\u001b[0m\u001b[0;34m:\u001b[0m\u001b[0;34m\u001b[0m\u001b[0;34m\u001b[0m\u001b[0m\n\u001b[0;32m----> 2\u001b[0;31m     \u001b[0;32mreturn\u001b[0m \u001b[0;36m5\u001b[0m\u001b[0;34m/\u001b[0m\u001b[0;36m0\u001b[0m\u001b[0;34m\u001b[0m\u001b[0;34m\u001b[0m\u001b[0m\n\u001b[0m",
      "\u001b[0;31mZeroDivisionError\u001b[0m: division by zero"
     ]
    }
   ],
   "source": [
    "print(divide5_0())"
   ]
  },
  {
   "cell_type": "code",
   "execution_count": 12,
   "metadata": {
    "ExecuteTime": {
     "end_time": "2020-08-26T23:53:13.486267Z",
     "start_time": "2020-08-26T23:53:13.478570Z"
    }
   },
   "outputs": [
    {
     "name": "stdout",
     "output_type": "stream",
     "text": [
      "Why on earth you are dividing a number by ZERO!\n",
      "Time\n"
     ]
    }
   ],
   "source": [
    "try: \n",
    "    divide5_0()\n",
    "except ZeroDivisionError as ze:\n",
    "    print('Why on earth you are dividing a number by ZERO!')\n",
    "except:\n",
    "    print('Any other exception')\n",
    "finally:\n",
    "    print('Time')"
   ]
  },
  {
   "cell_type": "markdown",
   "metadata": {},
   "source": [
    "# Question 52\n",
    "\n",
    "## **Question**\n",
    "\n",
    "> ***Define a custom exception class which takes a string message as attribute.***\n",
    "\n",
    "----------------------\n",
    "## Hints \n",
    "> ***To define a custom exception, we need to define a class inherited from Exception.***\n",
    "\n",
    "----------------------"
   ]
  },
  {
   "cell_type": "code",
   "execution_count": 13,
   "metadata": {
    "ExecuteTime": {
     "end_time": "2020-08-26T23:54:07.777641Z",
     "start_time": "2020-08-26T23:54:07.773823Z"
    }
   },
   "outputs": [],
   "source": [
    "class CustomException(Exception):\n",
    "    '''\n",
    "    Exception raised for custom purpose\n",
    "    \n",
    "    Attributes:\n",
    "        message -- explanation of the error\n",
    "    '''\n",
    "    def __init__(self,message):\n",
    "        self.message = message"
   ]
  },
  {
   "cell_type": "code",
   "execution_count": 15,
   "metadata": {
    "ExecuteTime": {
     "end_time": "2020-08-27T05:28:11.930895Z",
     "start_time": "2020-08-27T05:28:10.354692Z"
    }
   },
   "outputs": [
    {
     "name": "stdout",
     "output_type": "stream",
     "text": [
      "11\n",
      "The error raised:Input > 10\n"
     ]
    }
   ],
   "source": [
    "num = int(input())\n",
    "\n",
    "try:\n",
    "    if num < 10:\n",
    "        raise CustomException('Input < 10')\n",
    "    elif num > 10:\n",
    "        raise CustomException('Input > 10')\n",
    "except CustomException as ce:\n",
    "    print('The error raised:' + ce.message)"
   ]
  },
  {
   "cell_type": "markdown",
   "metadata": {},
   "source": [
    "# Question 53\n",
    "\n",
    "## **Question**\n",
    "\n",
    "> ***Assuming that we have some email addresses in the \"username@companyname.com\" format, please write program to print the user name of a given email address. Both user names and company names are composed of letters only.***\n",
    "\n",
    "> ***Example:\n",
    "If the following email address is given as input to the \n",
    "program:***\n",
    "```\n",
    "john@google.com\n",
    "```\n",
    "> ***Then, the output of the program should be:***\n",
    "```\n",
    "john\n",
    "```\n",
    "> ***In case of input data being supplied to the question, it should be assumed to be a console input.***\n",
    "\n",
    "----------------------\n",
    "## Hints \n",
    "> ***Use \\w to match letters.***\n",
    "\n",
    "----------------------"
   ]
  },
  {
   "cell_type": "code",
   "execution_count": 16,
   "metadata": {
    "ExecuteTime": {
     "end_time": "2020-08-27T05:32:36.217836Z",
     "start_time": "2020-08-27T05:32:30.904624Z"
    }
   },
   "outputs": [
    {
     "name": "stdout",
     "output_type": "stream",
     "text": [
      "john@google.com\n",
      "john\n"
     ]
    }
   ],
   "source": [
    "email= str(input())\n",
    "email= email.split('@')\n",
    "print(email[0])"
   ]
  },
  {
   "cell_type": "code",
   "execution_count": 23,
   "metadata": {
    "ExecuteTime": {
     "end_time": "2020-08-27T05:49:28.618013Z",
     "start_time": "2020-08-27T05:49:23.411643Z"
    }
   },
   "outputs": [
    {
     "name": "stdout",
     "output_type": "stream",
     "text": [
      "john@google.com\n",
      "google\n"
     ]
    }
   ],
   "source": [
    "import re \n",
    "email= str(input())\n",
    "# \\w+ : + unlimited characters\n",
    "# \\w: character, number, _\n",
    "# re.findall: Return all non-overlapping matches of pattern in string, as a list of strings. \n",
    "# The string is scanned left-to-right, and matches are returned in the order found. \n",
    "# returns a list containing all matches\n",
    "# () only return () in pattern found in object\n",
    "pattern=\"(\\w+)@\\w+.com\"\n",
    "ans=re.findall(pattern,email)\n",
    "print(*ans)\n"
   ]
  }
 ],
 "metadata": {
  "hide_input": false,
  "kernelspec": {
   "display_name": "Python 3",
   "language": "python",
   "name": "python3"
  },
  "language_info": {
   "codemirror_mode": {
    "name": "ipython",
    "version": 3
   },
   "file_extension": ".py",
   "mimetype": "text/x-python",
   "name": "python",
   "nbconvert_exporter": "python",
   "pygments_lexer": "ipython3",
   "version": "3.7.3"
  },
  "toc": {
   "base_numbering": 1,
   "nav_menu": {},
   "number_sections": true,
   "sideBar": true,
   "skip_h1_title": false,
   "title_cell": "Table of Contents",
   "title_sidebar": "Contents",
   "toc_cell": false,
   "toc_position": {},
   "toc_section_display": true,
   "toc_window_display": false
  }
 },
 "nbformat": 4,
 "nbformat_minor": 2
}
