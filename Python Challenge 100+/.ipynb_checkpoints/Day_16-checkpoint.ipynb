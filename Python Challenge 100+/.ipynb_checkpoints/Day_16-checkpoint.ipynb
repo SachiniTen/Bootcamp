{
 "cells": [
  {
   "cell_type": "markdown",
   "metadata": {},
   "source": [
    "# Question 60\n",
    "\n",
    "## **Question**\n",
    "\n",
    "> **_Write a program to compute:_**\n",
    "\n",
    "```\n",
    "f(n)=f(n-1)+100 when n>0\n",
    "and f(0)=0\n",
    "```\n",
    "\n",
    "> **_with a given n input by console (n>0)._**\n",
    "\n",
    "> **_Example:\n",
    "> If the following n is given as input to the program:_**\n",
    "\n",
    "```\n",
    "5\n",
    "```\n",
    "\n",
    "> **_Then, the output of the program should be:_**\n",
    "\n",
    "```\n",
    "500\n",
    "```\n",
    "\n",
    "> **_In case of input data being supplied to the question, it should be assumed to be a console input._**\n",
    "\n",
    "---\n",
    "\n",
    "## Hints\n",
    "\n",
    "> **_We can define recursive function in Python._**\n",
    "\n",
    "---"
   ]
  },
  {
   "cell_type": "code",
   "execution_count": 2,
   "metadata": {
    "ExecuteTime": {
     "end_time": "2020-08-29T05:19:21.508344Z",
     "start_time": "2020-08-29T05:19:18.881172Z"
    }
   },
   "outputs": [
    {
     "name": "stdout",
     "output_type": "stream",
     "text": [
      "5\n",
      "500\n"
     ]
    }
   ],
   "source": [
    "def f(n):\n",
    "    if n==0:\n",
    "        return 0 \n",
    "    else:\n",
    "        return f(n-1)+100\n",
    "n= int(input())\n",
    "print(f(n))"
   ]
  },
  {
   "cell_type": "code",
   "execution_count": 4,
   "metadata": {
    "ExecuteTime": {
     "end_time": "2020-08-29T05:21:16.492990Z",
     "start_time": "2020-08-29T05:21:14.250742Z"
    }
   },
   "outputs": [
    {
     "name": "stdout",
     "output_type": "stream",
     "text": [
      "5\n",
      "500\n"
     ]
    }
   ],
   "source": [
    "n= int(input())\n",
    "fun = lambda x: fun(x-1)+100 if x>0 else 0 \n",
    "print(fun(n))"
   ]
  },
  {
   "cell_type": "markdown",
   "metadata": {
    "ExecuteTime": {
     "end_time": "2020-08-29T05:21:45.187086Z",
     "start_time": "2020-08-29T05:21:45.178838Z"
    }
   },
   "source": [
    "# Question 61\n",
    "\n",
    "## **Question**\n",
    "\n",
    "> **_The Fibonacci Sequence is computed based on the following formula:_**\n",
    "\n",
    "```\n",
    "f(n)=0 if n=0\n",
    "f(n)=1 if n=1\n",
    "f(n)=f(n-1)+f(n-2) if n>1\n",
    "```\n",
    "\n",
    "> **_Please write a program to compute the value of f(n) with a given n input by console._**\n",
    "\n",
    "> **_Example:\n",
    "> If the following n is given as input to the program:_**\n",
    "\n",
    "```\n",
    "7\n",
    "```\n",
    "\n",
    "> **_Then, the output of the program should be:_**\n",
    "\n",
    "```\n",
    "13\n",
    "```\n",
    "\n",
    "> **_In case of input data being supplied to the question, it should be assumed to be a console input._**\n",
    "\n",
    "---\n",
    "\n",
    "## Hints\n",
    "\n",
    "> **_We can define recursive function in Python._**\n",
    "\n",
    "---\n"
   ]
  },
  {
   "cell_type": "code",
   "execution_count": 7,
   "metadata": {
    "ExecuteTime": {
     "end_time": "2020-08-29T05:25:01.804018Z",
     "start_time": "2020-08-29T05:24:59.677490Z"
    }
   },
   "outputs": [
    {
     "name": "stdout",
     "output_type": "stream",
     "text": [
      "7\n",
      "13\n"
     ]
    }
   ],
   "source": [
    "def fib(n):\n",
    "    if n==0:\n",
    "        return 0 \n",
    "    elif n==1:\n",
    "        return 1  \n",
    "    else:\n",
    "        return fib(n-1)+fib(n-2)\n",
    "n = int(input())\n",
    "print(fib(n))"
   ]
  },
  {
   "cell_type": "code",
   "execution_count": 1,
   "metadata": {
    "ExecuteTime": {
     "end_time": "2020-08-29T05:29:19.756790Z",
     "start_time": "2020-08-29T05:29:14.152270Z"
    }
   },
   "outputs": [
    {
     "name": "stdout",
     "output_type": "stream",
     "text": [
      "7\n",
      "13\n"
     ]
    }
   ],
   "source": [
    "n = int(input())\n",
    "fibon = lambda x: 0 if x==0 else 1 if x==1 else fibon(x-1) + fibon(x-2)\n",
    "print(fibon(n))"
   ]
  },
  {
   "cell_type": "markdown",
   "metadata": {},
   "source": [
    "# Question 62\n",
    "\n",
    "## **Question**\n",
    "\n",
    "> **_The Fibonacci Sequence is computed based on the following formula:_**\n",
    "\n",
    "```\n",
    "f(n)=0 if n=0\n",
    "f(n)=1 if n=1\n",
    "f(n)=f(n-1)+f(n-2) if n>1\n",
    "```\n",
    "\n",
    "> **_Please write a program to compute the value of f(n) with a given n input by console._**\n",
    "\n",
    "> **_Example:\n",
    "> If the following n is given as input to the program:_**\n",
    "\n",
    "```\n",
    "7\n",
    "```\n",
    "\n",
    "> **_Then, the output of the program should be:_**\n",
    "\n",
    "```\n",
    "0,1,1,2,3,5,8,13\n",
    "```\n",
    "\n",
    "> **_In case of input data being supplied to the question, it should be assumed to be a console input._**\n",
    "\n",
    "---\n",
    "\n",
    "## Hints\n",
    "\n",
    "> **_We can define recursive function in Python.\n",
    "> Use list comprehension to generate a list from an existing list.\n",
    "> Use string.join() to join a list of strings._**\n",
    "\n",
    "---"
   ]
  },
  {
   "cell_type": "code",
   "execution_count": 4,
   "metadata": {
    "ExecuteTime": {
     "end_time": "2020-08-29T05:38:32.084111Z",
     "start_time": "2020-08-29T05:38:29.865094Z"
    }
   },
   "outputs": [
    {
     "name": "stdout",
     "output_type": "stream",
     "text": [
      "7\n",
      "0,1,1,2,3,5,8,13\n"
     ]
    }
   ],
   "source": [
    "def fib(n):\n",
    "    if n < 2:\n",
    "        return n  \n",
    "    else:\n",
    "        return fib(n-1)+fib(n-2)\n",
    "\n",
    "def print_fib_list(n):\n",
    "    fib_list = [str(fib(i)) for i in range(0, n+1)]\n",
    "    return print(','.join(fib_list)) \n",
    "# Use string.join() to join a list of strings.\n",
    "\n",
    "n= int(input())\n",
    "print_fib_list(n)"
   ]
  },
  {
   "cell_type": "markdown",
   "metadata": {},
   "source": [
    "# Question 63\n",
    "\n",
    "## **Question**\n",
    "\n",
    "> **_Please write a program using generator to print the even numbers between 0 and n in comma separated form while n is input by console._**\n",
    "\n",
    "> **_Example:\n",
    "> If the following n is given as input to the program:_**\n",
    "\n",
    "```\n",
    "10\n",
    "```\n",
    "\n",
    "> **_Then, the output of the program should be:_**\n",
    "\n",
    "```\n",
    "0,2,4,6,8,10\n",
    "```\n",
    "\n",
    "> **_In case of input data being supplied to the question, it should be assumed to be a console input._**\n",
    "\n",
    "---\n",
    "\n",
    "## Hints\n",
    "\n",
    "> **_Use yield to produce the next value in generator._**\n",
    "\n",
    "---"
   ]
  },
  {
   "cell_type": "code",
   "execution_count": 6,
   "metadata": {
    "ExecuteTime": {
     "end_time": "2020-08-29T05:44:30.955980Z",
     "start_time": "2020-08-29T05:44:27.638009Z"
    }
   },
   "outputs": [
    {
     "name": "stdout",
     "output_type": "stream",
     "text": [
      "10\n",
      "0,2,4,6,8,10\n"
     ]
    }
   ],
   "source": [
    "n = int(input())\n",
    "\n",
    "list = [str(i) for i in range(0,n+1, 2)]\n",
    "print(','.join(list))"
   ]
  },
  {
   "cell_type": "code",
   "execution_count": 7,
   "metadata": {
    "ExecuteTime": {
     "end_time": "2020-08-29T05:47:36.638637Z",
     "start_time": "2020-08-29T05:47:33.431718Z"
    }
   },
   "outputs": [
    {
     "name": "stdout",
     "output_type": "stream",
     "text": [
      "7\n",
      "0,2,4,6,8,10\n"
     ]
    }
   ],
   "source": [
    "def even_generator(n):\n",
    "    i=0 \n",
    "    while i <= n:\n",
    "        if i%2==0:\n",
    "            yield i # directly return in processing\n",
    "        i+=1\n",
    "    \n",
    "n = int(input())\n",
    "n_list=[]\n",
    "for i in even_generator(n):\n",
    "    n_list.append(str(i))\n",
    "    \n",
    "print(','.join(n_list))"
   ]
  },
  {
   "cell_type": "markdown",
   "metadata": {},
   "source": [
    "# Question 64\n",
    "\n",
    "## **Question**\n",
    "\n",
    "> **_Please write a program using generator to print the numbers which can be divisible by 5 and 7 between 0 and n in comma separated form while n is input by console._**\n",
    "\n",
    "> **_Example:\n",
    "> If the following n is given as input to the program:_**\n",
    "\n",
    "```\n",
    "100\n",
    "```\n",
    "\n",
    "> **_Then, the output of the program should be:_**\n",
    "\n",
    "```\n",
    "0,35,70\n",
    "```\n",
    "\n",
    "> **_In case of input data being supplied to the question, it should be assumed to be a console input._**\n",
    "\n",
    "---\n",
    "\n",
    "## Hints\n",
    "\n",
    "> **_Use yield to produce the next value in generator._**\n",
    "\n",
    "---"
   ]
  },
  {
   "cell_type": "code",
   "execution_count": 13,
   "metadata": {
    "ExecuteTime": {
     "end_time": "2020-08-29T05:51:58.841588Z",
     "start_time": "2020-08-29T05:51:56.936237Z"
    }
   },
   "outputs": [
    {
     "name": "stdout",
     "output_type": "stream",
     "text": [
      "100\n",
      "0,35,70\n"
     ]
    }
   ],
   "source": [
    "def generator_5_7(n):\n",
    "    i=0 \n",
    "    while i <= n:\n",
    "        if i%5==0 and i%7==0:\n",
    "            yield i\n",
    "        i+=1\n",
    "    \n",
    "n = int(input())\n",
    "new_list=[]\n",
    "for i in generator_5_7(n):\n",
    "    new_list.append(str(i))\n",
    "    \n",
    "print(','.join(new_list))"
   ]
  }
 ],
 "metadata": {
  "hide_input": false,
  "kernelspec": {
   "display_name": "Python 3",
   "language": "python",
   "name": "python3"
  },
  "language_info": {
   "codemirror_mode": {
    "name": "ipython",
    "version": 3
   },
   "file_extension": ".py",
   "mimetype": "text/x-python",
   "name": "python",
   "nbconvert_exporter": "python",
   "pygments_lexer": "ipython3",
   "version": "3.7.3"
  },
  "toc": {
   "base_numbering": 1,
   "nav_menu": {},
   "number_sections": true,
   "sideBar": true,
   "skip_h1_title": false,
   "title_cell": "Table of Contents",
   "title_sidebar": "Contents",
   "toc_cell": false,
   "toc_position": {},
   "toc_section_display": true,
   "toc_window_display": false
  }
 },
 "nbformat": 4,
 "nbformat_minor": 2
}
