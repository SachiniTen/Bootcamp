{
 "cells": [
  {
   "cell_type": "markdown",
   "metadata": {
    "ExecuteTime": {
     "end_time": "2020-08-19T22:28:29.001052Z",
     "start_time": "2020-08-19T22:28:28.995325Z"
    }
   },
   "source": [
    "# Question 14\n",
    "\n",
    "## **Question:**\n",
    "\n",
    "> **_Write a program that accepts a sentence and calculate the number of upper case letters and lower case letters._**\n",
    "\n",
    "> **_Suppose the following input is supplied to the program:_**\n",
    "\n",
    "```\n",
    "Hello world!\n",
    "```\n",
    "\n",
    "> **_Then, the output should be:_**\n",
    "\n",
    "```\n",
    "UPPER CASE 1\n",
    "LOWER CASE 9\n",
    "```\n",
    "\n",
    "---\n",
    "\n",
    "## Hints:\n",
    "\n",
    "> **_In case of input data being supplied to the question, it should be assumed to be a console input._**\n",
    "\n",
    "---"
   ]
  },
  {
   "cell_type": "code",
   "execution_count": 1,
   "metadata": {
    "ExecuteTime": {
     "end_time": "2020-08-19T22:40:30.364894Z",
     "start_time": "2020-08-19T22:40:23.268040Z"
    }
   },
   "outputs": [
    {
     "name": "stdout",
     "output_type": "stream",
     "text": [
      "Hello world!\n",
      "UPPER CASE 1\n",
      "LOWER CASE 9\n"
     ]
    }
   ],
   "source": [
    "n_list=input()\n",
    "upper, lower=0,0\n",
    "for i in n_list:\n",
    "    if i.islower():\n",
    "        lower+=1\n",
    "    if i.isupper():\n",
    "        upper+=1\n",
    "\n",
    "print(\"UPPER CASE {0}\\nLOWER CASE {1}\".format(upper, lower))        "
   ]
  },
  {
   "cell_type": "markdown",
   "metadata": {},
   "source": [
    "# Question 15\n",
    "\n",
    "## **Question:**\n",
    "\n",
    "> **_Write a program that computes the value of a+aa+aaa+aaaa with a given digit as the value of a._**\n",
    "\n",
    "> **_Suppose the following input is supplied to the program:_**\n",
    "\n",
    "```\n",
    "9\n",
    "```\n",
    "\n",
    "> **_Then, the output should be:_**\n",
    "\n",
    "```\n",
    "11106\n",
    "```\n",
    "\n",
    "---\n",
    "\n",
    "## Hints:\n",
    "\n",
    "> **_In case of input data being supplied to the question, it should be assumed to be a console input._**\n",
    "\n",
    "---\n"
   ]
  },
  {
   "cell_type": "code",
   "execution_count": 2,
   "metadata": {
    "ExecuteTime": {
     "end_time": "2020-08-19T22:40:35.644399Z",
     "start_time": "2020-08-19T22:40:33.348080Z"
    }
   },
   "outputs": [
    {
     "name": "stdout",
     "output_type": "stream",
     "text": [
      "9\n",
      "11106\n"
     ]
    }
   ],
   "source": [
    "a=input()\n",
    "# N*a=Na, for example  a=\"23\", 2*a=\"2323\",3*a=\"232323\"\n",
    "sum= int(a) + int(2*a) + int(3*a) + int(4*a)\n",
    "print(sum)"
   ]
  },
  {
   "cell_type": "code",
   "execution_count": 3,
   "metadata": {
    "ExecuteTime": {
     "end_time": "2020-08-19T22:40:40.357876Z",
     "start_time": "2020-08-19T22:40:37.848492Z"
    }
   },
   "outputs": [
    {
     "name": "stdout",
     "output_type": "stream",
     "text": [
      "9\n",
      "11106\n"
     ]
    }
   ],
   "source": [
    "# string 'a'+'a'='aa'\n",
    "a = input()\n",
    "total,tmp = 0,str()        # initialing an integer and empty string\n",
    "\n",
    "for i in range(4):\n",
    "    tmp+=a               # concatenating 'a' to 'tmp'\n",
    "    total+=int(tmp)      # converting string type to integer type\n",
    "\n",
    "print(total)"
   ]
  }
 ],
 "metadata": {
  "hide_input": false,
  "kernelspec": {
   "display_name": "Python 3",
   "language": "python",
   "name": "python3"
  },
  "language_info": {
   "codemirror_mode": {
    "name": "ipython",
    "version": 3
   },
   "file_extension": ".py",
   "mimetype": "text/x-python",
   "name": "python",
   "nbconvert_exporter": "python",
   "pygments_lexer": "ipython3",
   "version": "3.7.3"
  },
  "toc": {
   "base_numbering": 1,
   "nav_menu": {},
   "number_sections": true,
   "sideBar": true,
   "skip_h1_title": false,
   "title_cell": "Table of Contents",
   "title_sidebar": "Contents",
   "toc_cell": false,
   "toc_position": {},
   "toc_section_display": true,
   "toc_window_display": false
  }
 },
 "nbformat": 4,
 "nbformat_minor": 2
}
