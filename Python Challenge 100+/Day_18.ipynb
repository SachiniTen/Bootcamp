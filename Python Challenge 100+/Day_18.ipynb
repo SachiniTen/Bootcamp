{
 "cells": [
  {
   "cell_type": "markdown",
   "metadata": {},
   "source": [
    "# Question 70\n",
    "\n",
    "## **Question**\n",
    "\n",
    "> **_Please write a program to output a random even number between 0 and 10 inclusive using random module and list comprehension._**\n",
    "\n",
    "---\n",
    "\n",
    "## Hints\n",
    "\n",
    "> **_Use random.choice() to a random element from a list._**\n",
    "\n",
    "---"
   ]
  },
  {
   "cell_type": "code",
   "execution_count": 8,
   "metadata": {
    "ExecuteTime": {
     "end_time": "2020-08-30T22:17:15.413903Z",
     "start_time": "2020-08-30T22:17:15.408878Z"
    }
   },
   "outputs": [
    {
     "name": "stdout",
     "output_type": "stream",
     "text": [
      "2\n",
      "6\n"
     ]
    }
   ],
   "source": [
    "import random\n",
    "lst = [i for i in range(0,11,2)]\n",
    "print(random.choice(lst))\n",
    "# with replacement use choices\n",
    "print(*random.choices(lst,weights = [1, 2, 3, 4 ,5, 6], k = 1))"
   ]
  },
  {
   "cell_type": "markdown",
   "metadata": {},
   "source": [
    "# Question 71\n",
    "\n",
    "## **Question**\n",
    "\n",
    "> **_Please write a program to output a random number, which is divisible by 5 and 7, between 10 and 150 inclusive using random module and list comprehension._**\n",
    "\n",
    "---\n",
    "\n",
    "## Hints\n",
    "\n",
    "> **_Use random.choice() to a random element from a list._**\n",
    "\n",
    "---"
   ]
  },
  {
   "cell_type": "code",
   "execution_count": 9,
   "metadata": {
    "ExecuteTime": {
     "end_time": "2020-08-30T22:19:18.628464Z",
     "start_time": "2020-08-30T22:19:18.619985Z"
    }
   },
   "outputs": [
    {
     "name": "stdout",
     "output_type": "stream",
     "text": [
      "70\n"
     ]
    }
   ],
   "source": [
    "import random\n",
    "lst = [i for i in range(10, 151) if i%5==0 and i%7==0 ]\n",
    "print(random.choice(lst))"
   ]
  },
  {
   "cell_type": "markdown",
   "metadata": {},
   "source": [
    "# Question 72\n",
    "\n",
    "## **Question**\n",
    "\n",
    "> **_Please write a program to generate a list with 5 random numbers between 100 and 200 inclusive._**\n",
    "\n",
    "---\n",
    "\n",
    "## Hints\n",
    "\n",
    "> **_Use random.sample() to generate a list of random values._**\n",
    "\n",
    "---"
   ]
  },
  {
   "cell_type": "code",
   "execution_count": 11,
   "metadata": {
    "ExecuteTime": {
     "end_time": "2020-08-30T22:23:05.511289Z",
     "start_time": "2020-08-30T22:23:05.507440Z"
    }
   },
   "outputs": [
    {
     "name": "stdout",
     "output_type": "stream",
     "text": [
      "[165, 156, 111, 144, 164]\n"
     ]
    }
   ],
   "source": [
    "import random \n",
    "# without replacement\n",
    "lst = random.sample(range(100, 201), 5)\n",
    "print(lst)"
   ]
  },
  {
   "cell_type": "markdown",
   "metadata": {},
   "source": [
    "# Question 73\n",
    "\n",
    "## **Question**\n",
    "\n",
    "> **_Please write a program to randomly generate a list with 5 even numbers between 100 and 200 inclusive._**\n",
    "\n",
    "---\n",
    "\n",
    "## Hints\n",
    "\n",
    "> **_Use random.sample() to generate a list of random values._**\n",
    "\n",
    "---"
   ]
  },
  {
   "cell_type": "code",
   "execution_count": 12,
   "metadata": {
    "ExecuteTime": {
     "end_time": "2020-08-30T22:24:04.533494Z",
     "start_time": "2020-08-30T22:24:04.529589Z"
    }
   },
   "outputs": [
    {
     "name": "stdout",
     "output_type": "stream",
     "text": [
      "[110, 198, 182, 164, 120]\n"
     ]
    }
   ],
   "source": [
    "import random \n",
    "# without replacement\n",
    "lst = random.sample(range(100, 201,2), 5)\n",
    "print(lst)"
   ]
  },
  {
   "cell_type": "markdown",
   "metadata": {},
   "source": [
    "# Question 74\n",
    "\n",
    "## **Question**\n",
    "\n",
    "> **_Please write a program to randomly generate a list with 5 numbers, which are divisible by 5 and 7 , between 1 and 1000 inclusive._**\n",
    "\n",
    "---\n",
    "\n",
    "## Hints\n",
    "\n",
    "> **_Use random.sample() to generate a list of random values._**\n",
    "\n",
    "---"
   ]
  },
  {
   "cell_type": "code",
   "execution_count": 13,
   "metadata": {
    "ExecuteTime": {
     "end_time": "2020-08-30T22:25:18.793587Z",
     "start_time": "2020-08-30T22:25:18.776491Z"
    }
   },
   "outputs": [
    {
     "name": "stdout",
     "output_type": "stream",
     "text": [
      "[770, 980, 105, 910, 385]\n"
     ]
    }
   ],
   "source": [
    "import random \n",
    "# without replacement\n",
    "lst = random.sample([i for i in range(100,1001) if i % 5==0 and i % 7==0], 5)\n",
    "print(lst)"
   ]
  }
 ],
 "metadata": {
  "hide_input": false,
  "kernelspec": {
   "display_name": "Python 3",
   "language": "python",
   "name": "python3"
  },
  "language_info": {
   "codemirror_mode": {
    "name": "ipython",
    "version": 3
   },
   "file_extension": ".py",
   "mimetype": "text/x-python",
   "name": "python",
   "nbconvert_exporter": "python",
   "pygments_lexer": "ipython3",
   "version": "3.7.3"
  },
  "toc": {
   "base_numbering": 1,
   "nav_menu": {},
   "number_sections": true,
   "sideBar": true,
   "skip_h1_title": false,
   "title_cell": "Table of Contents",
   "title_sidebar": "Contents",
   "toc_cell": false,
   "toc_position": {},
   "toc_section_display": true,
   "toc_window_display": false
  }
 },
 "nbformat": 4,
 "nbformat_minor": 2
}
